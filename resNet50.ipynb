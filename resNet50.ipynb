{
  "cells": [
    {
      "cell_type": "markdown",
      "metadata": {
        "id": "view-in-github",
        "colab_type": "text"
      },
      "source": [
        "<a href=\"https://colab.research.google.com/github/mrSaggio/mrSaggio/blob/main/resNet50.ipynb\" target=\"_parent\"><img src=\"https://colab.research.google.com/assets/colab-badge.svg\" alt=\"Open In Colab\"/></a>"
      ]
    },
    {
      "cell_type": "code",
      "source": [
        "from google.colab import drive\n",
        "drive.mount('/content/drive')"
      ],
      "metadata": {
        "colab": {
          "base_uri": "https://localhost:8080/"
        },
        "id": "i3UiEWIsqnld",
        "outputId": "aac66339-fba2-41fe-b034-7e269603fd56"
      },
      "id": "i3UiEWIsqnld",
      "execution_count": 1,
      "outputs": [
        {
          "output_type": "stream",
          "name": "stdout",
          "text": [
            "Mounted at /content/drive\n"
          ]
        }
      ]
    },
    {
      "cell_type": "code",
      "execution_count": 2,
      "id": "813c4ce3",
      "metadata": {
        "execution": {
          "iopub.execute_input": "2024-01-17T06:49:37.059722Z",
          "iopub.status.busy": "2024-01-17T06:49:37.059204Z",
          "iopub.status.idle": "2024-01-17T06:49:37.085043Z",
          "shell.execute_reply": "2024-01-17T06:49:37.083847Z"
        },
        "papermill": {
          "duration": 0.03964,
          "end_time": "2024-01-17T06:49:37.087764",
          "exception": false,
          "start_time": "2024-01-17T06:49:37.048124",
          "status": "completed"
        },
        "tags": [],
        "id": "813c4ce3",
        "outputId": "1ea54823-106d-43e9-d795-46995ca89e9a",
        "colab": {
          "base_uri": "https://localhost:8080/"
        }
      },
      "outputs": [
        {
          "output_type": "execute_result",
          "data": {
            "text/plain": [
              "['Annotations', 'JPEGImages']"
            ]
          },
          "metadata": {},
          "execution_count": 2
        }
      ],
      "source": [
        "import os\n",
        "os.listdir('/content/drive/MyDrive/list_digital')"
      ]
    },
    {
      "cell_type": "code",
      "execution_count": 7,
      "id": "4de97805",
      "metadata": {
        "execution": {
          "iopub.execute_input": "2024-01-17T06:49:37.106645Z",
          "iopub.status.busy": "2024-01-17T06:49:37.106174Z",
          "iopub.status.idle": "2024-01-17T06:49:37.356208Z",
          "shell.execute_reply": "2024-01-17T06:49:37.354615Z"
        },
        "papermill": {
          "duration": 0.263102,
          "end_time": "2024-01-17T06:49:37.359205",
          "exception": false,
          "start_time": "2024-01-17T06:49:37.096103",
          "status": "completed"
        },
        "tags": [],
        "id": "4de97805",
        "outputId": "b9c9d318-097c-4349-c1c8-185124bed10d",
        "colab": {
          "base_uri": "https://localhost:8080/"
        }
      },
      "outputs": [
        {
          "output_type": "stream",
          "name": "stdout",
          "text": [
            "64\n"
          ]
        },
        {
          "output_type": "execute_result",
          "data": {
            "text/plain": [
              "['/content/drive/MyDrive/list_digital/JPEGImages/frame_orig13456.jpg',\n",
              " '/content/drive/MyDrive/list_digital/JPEGImages/frame_orig11857.jpg',\n",
              " '/content/drive/MyDrive/list_digital/JPEGImages/frame_orig17891.jpg',\n",
              " '/content/drive/MyDrive/list_digital/JPEGImages/frame_orig19078.jpg',\n",
              " '/content/drive/MyDrive/list_digital/JPEGImages/frame_orig7621.jpg',\n",
              " '/content/drive/MyDrive/list_digital/JPEGImages/frame_orig4288.jpg',\n",
              " '/content/drive/MyDrive/list_digital/JPEGImages/frame_orig19085.jpg',\n",
              " '/content/drive/MyDrive/list_digital/JPEGImages/frame_orig18713.jpg',\n",
              " '/content/drive/MyDrive/list_digital/JPEGImages/frame_orig11504.jpg']"
            ]
          },
          "metadata": {},
          "execution_count": 7
        }
      ],
      "source": [
        "import glob\n",
        "images_path = glob.glob('/content/drive/MyDrive/list_digital/JPEGImages/*.jpg')\n",
        "print(len(images_path))\n",
        "images_path[:9]"
      ]
    },
    {
      "cell_type": "code",
      "execution_count": 8,
      "id": "47a3e127",
      "metadata": {
        "execution": {
          "iopub.execute_input": "2024-01-17T06:49:37.380081Z",
          "iopub.status.busy": "2024-01-17T06:49:37.379629Z",
          "iopub.status.idle": "2024-01-17T06:49:37.497127Z",
          "shell.execute_reply": "2024-01-17T06:49:37.495577Z"
        },
        "papermill": {
          "duration": 0.13206,
          "end_time": "2024-01-17T06:49:37.500575",
          "exception": false,
          "start_time": "2024-01-17T06:49:37.368515",
          "status": "completed"
        },
        "tags": [],
        "id": "47a3e127",
        "outputId": "0a2d2841-5c82-474e-d6a6-9a2257698eb3",
        "colab": {
          "base_uri": "https://localhost:8080/"
        }
      },
      "outputs": [
        {
          "output_type": "stream",
          "name": "stdout",
          "text": [
            "64\n"
          ]
        },
        {
          "output_type": "execute_result",
          "data": {
            "text/plain": [
              "['/content/drive/MyDrive/list_digital/Annotations/frame_orig11502.xml',\n",
              " '/content/drive/MyDrive/list_digital/Annotations/frame_orig17891.xml',\n",
              " '/content/drive/MyDrive/list_digital/Annotations/frame_orig18698.xml',\n",
              " '/content/drive/MyDrive/list_digital/Annotations/frame_orig18706.xml',\n",
              " '/content/drive/MyDrive/list_digital/Annotations/frame_orig19077.xml',\n",
              " '/content/drive/MyDrive/list_digital/Annotations/frame_orig19088.xml',\n",
              " '/content/drive/MyDrive/list_digital/Annotations/frame_orig18702.xml',\n",
              " '/content/drive/MyDrive/list_digital/Annotations/frame_orig19079.xml',\n",
              " '/content/drive/MyDrive/list_digital/Annotations/frame_orig18715.xml']"
            ]
          },
          "metadata": {},
          "execution_count": 8
        }
      ],
      "source": [
        "xmls_path = glob.glob('/content/drive/MyDrive/list_digital/Annotations/*.xml')\n",
        "print(len(xmls_path))\n",
        "xmls_path[:9]"
      ]
    },
    {
      "cell_type": "code",
      "execution_count": 9,
      "id": "b8d09342",
      "metadata": {
        "execution": {
          "iopub.execute_input": "2024-01-17T06:49:37.521896Z",
          "iopub.status.busy": "2024-01-17T06:49:37.520878Z",
          "iopub.status.idle": "2024-01-17T06:49:37.620432Z",
          "shell.execute_reply": "2024-01-17T06:49:37.618477Z"
        },
        "papermill": {
          "duration": 0.11544,
          "end_time": "2024-01-17T06:49:37.624882",
          "exception": false,
          "start_time": "2024-01-17T06:49:37.509442",
          "status": "completed"
        },
        "tags": [],
        "id": "b8d09342",
        "outputId": "dbbe9d38-fc1e-468a-de5f-b3d858ff75f8",
        "colab": {
          "base_uri": "https://localhost:8080/"
        }
      },
      "outputs": [
        {
          "output_type": "execute_result",
          "data": {
            "text/plain": [
              "(64, 64)"
            ]
          },
          "metadata": {},
          "execution_count": 9
        }
      ],
      "source": [
        "xmls_data = [p.split('/')[-1].split('.')[0] for p in xmls_path]\n",
        "images_data = [img for img in images_path if (img.split('/')[-1].split)('.jpg')[0] in xmls_data]\n",
        "\n",
        "len(images_data),len(xmls_path)\n"
      ]
    },
    {
      "cell_type": "code",
      "execution_count": 10,
      "id": "5d2477a9",
      "metadata": {
        "execution": {
          "iopub.execute_input": "2024-01-17T06:49:37.649507Z",
          "iopub.status.busy": "2024-01-17T06:49:37.649009Z",
          "iopub.status.idle": "2024-01-17T06:49:37.670166Z",
          "shell.execute_reply": "2024-01-17T06:49:37.668950Z"
        },
        "papermill": {
          "duration": 0.040444,
          "end_time": "2024-01-17T06:49:37.676350",
          "exception": false,
          "start_time": "2024-01-17T06:49:37.635906",
          "status": "completed"
        },
        "tags": [],
        "id": "5d2477a9",
        "outputId": "a6585b3c-a5c4-4a03-d65b-bac8931eb2d6",
        "colab": {
          "base_uri": "https://localhost:8080/"
        }
      },
      "outputs": [
        {
          "output_type": "execute_result",
          "data": {
            "text/plain": [
              "(['/content/drive/MyDrive/list_digital/Annotations/frame_orig11502.xml',\n",
              "  '/content/drive/MyDrive/list_digital/Annotations/frame_orig11504.xml',\n",
              "  '/content/drive/MyDrive/list_digital/Annotations/frame_orig11857.xml',\n",
              "  '/content/drive/MyDrive/list_digital/Annotations/frame_orig13456.xml',\n",
              "  '/content/drive/MyDrive/list_digital/Annotations/frame_orig13845.xml',\n",
              "  '/content/drive/MyDrive/list_digital/Annotations/frame_orig1694.xml',\n",
              "  '/content/drive/MyDrive/list_digital/Annotations/frame_orig17887.xml',\n",
              "  '/content/drive/MyDrive/list_digital/Annotations/frame_orig17888.xml',\n",
              "  '/content/drive/MyDrive/list_digital/Annotations/frame_orig17889.xml'],\n",
              " ['/content/drive/MyDrive/list_digital/JPEGImages/frame_orig11502.jpg',\n",
              "  '/content/drive/MyDrive/list_digital/JPEGImages/frame_orig11504.jpg',\n",
              "  '/content/drive/MyDrive/list_digital/JPEGImages/frame_orig11857.jpg',\n",
              "  '/content/drive/MyDrive/list_digital/JPEGImages/frame_orig13456.jpg',\n",
              "  '/content/drive/MyDrive/list_digital/JPEGImages/frame_orig13845.jpg',\n",
              "  '/content/drive/MyDrive/list_digital/JPEGImages/frame_orig1694.jpg',\n",
              "  '/content/drive/MyDrive/list_digital/JPEGImages/frame_orig17887.jpg',\n",
              "  '/content/drive/MyDrive/list_digital/JPEGImages/frame_orig17888.jpg',\n",
              "  '/content/drive/MyDrive/list_digital/JPEGImages/frame_orig17889.jpg'])"
            ]
          },
          "metadata": {},
          "execution_count": 10
        }
      ],
      "source": [
        "xmls_path.sort(key=lambda x: x.split(\"/\")[-1].split('.xml')[0])\n",
        "images_data.sort(key=lambda x: x.split(\"/\")[-1].split('.jpg')[0])\n",
        "xmls_path[:9],images_data[:9]"
      ]
    },
    {
      "cell_type": "code",
      "execution_count": 11,
      "id": "92071072",
      "metadata": {
        "execution": {
          "iopub.execute_input": "2024-01-17T06:49:37.705704Z",
          "iopub.status.busy": "2024-01-17T06:49:37.704448Z",
          "iopub.status.idle": "2024-01-17T06:49:50.080881Z",
          "shell.execute_reply": "2024-01-17T06:49:50.078661Z"
        },
        "papermill": {
          "duration": 12.393961,
          "end_time": "2024-01-17T06:49:50.083834",
          "exception": false,
          "start_time": "2024-01-17T06:49:37.689873",
          "status": "completed"
        },
        "tags": [],
        "id": "92071072",
        "outputId": "05eb3a84-4d31-49f7-fbc2-4669257e402a",
        "colab": {
          "base_uri": "https://localhost:8080/"
        }
      },
      "outputs": [
        {
          "output_type": "stream",
          "name": "stdout",
          "text": [
            "tensor([[1., 1., 1., 1., 1., 1., 1., 1., 0., 1.],\n",
            "        [1., 1., 1., 1., 1., 1., 1., 1., 0., 1.],\n",
            "        [1., 1., 1., 1., 1., 1., 1., 1., 0., 1.],\n",
            "        [1., 1., 1., 1., 1., 1., 1., 1., 0., 1.],\n",
            "        [1., 1., 1., 1., 1., 1., 1., 1., 0., 1.],\n",
            "        [1., 1., 1., 1., 1., 1., 1., 1., 0., 1.],\n",
            "        [1., 1., 1., 1., 1., 1., 1., 1., 0., 1.],\n",
            "        [1., 1., 1., 1., 1., 1., 1., 1., 0., 1.],\n",
            "        [1., 1., 1., 1., 1., 1., 1., 1., 0., 1.],\n",
            "        [1., 1., 1., 1., 1., 1., 1., 1., 0., 1.],\n",
            "        [1., 1., 1., 1., 0., 1., 1., 1., 0., 1.],\n",
            "        [1., 1., 1., 1., 0., 1., 1., 1., 0., 1.],\n",
            "        [1., 1., 1., 1., 0., 1., 1., 1., 0., 1.],\n",
            "        [1., 1., 1., 1., 0., 1., 1., 1., 0., 1.],\n",
            "        [1., 1., 1., 1., 0., 1., 1., 1., 0., 1.],\n",
            "        [1., 1., 1., 1., 0., 1., 1., 1., 0., 1.],\n",
            "        [1., 1., 1., 1., 0., 1., 1., 1., 0., 1.],\n",
            "        [1., 1., 1., 1., 0., 1., 1., 1., 0., 1.],\n",
            "        [1., 1., 1., 1., 0., 1., 1., 1., 0., 1.],\n",
            "        [1., 1., 1., 1., 0., 1., 1., 1., 0., 1.],\n",
            "        [1., 1., 1., 1., 0., 1., 1., 1., 0., 1.],\n",
            "        [1., 1., 1., 1., 0., 1., 1., 1., 0., 1.],\n",
            "        [1., 1., 1., 1., 0., 1., 1., 1., 0., 1.],\n",
            "        [1., 1., 1., 1., 0., 1., 1., 1., 0., 1.],\n",
            "        [1., 1., 1., 1., 0., 1., 1., 1., 0., 1.],\n",
            "        [1., 1., 1., 1., 0., 1., 1., 1., 0., 1.],\n",
            "        [1., 1., 1., 1., 0., 1., 1., 1., 0., 1.],\n",
            "        [1., 1., 1., 1., 0., 1., 1., 1., 0., 1.],\n",
            "        [1., 1., 1., 1., 0., 1., 1., 1., 0., 1.],\n",
            "        [1., 1., 1., 1., 0., 1., 1., 1., 0., 1.],\n",
            "        [1., 1., 1., 1., 0., 1., 1., 1., 0., 1.],\n",
            "        [1., 1., 1., 1., 0., 1., 1., 1., 0., 1.],\n",
            "        [1., 1., 1., 1., 0., 1., 1., 1., 0., 1.],\n",
            "        [1., 1., 1., 1., 0., 1., 1., 1., 0., 1.],\n",
            "        [1., 1., 1., 1., 0., 1., 1., 1., 0., 1.],\n",
            "        [1., 1., 1., 1., 0., 1., 1., 1., 0., 1.],\n",
            "        [1., 1., 1., 1., 0., 1., 1., 1., 0., 1.],\n",
            "        [1., 1., 1., 1., 0., 1., 1., 1., 0., 1.],\n",
            "        [1., 1., 1., 1., 0., 1., 1., 1., 0., 1.],\n",
            "        [1., 1., 1., 1., 0., 1., 1., 1., 0., 1.],\n",
            "        [1., 1., 1., 1., 0., 1., 1., 1., 0., 1.],\n",
            "        [1., 1., 1., 1., 0., 1., 1., 1., 0., 1.],\n",
            "        [1., 1., 1., 1., 0., 1., 1., 1., 0., 1.],\n",
            "        [1., 1., 1., 1., 0., 1., 1., 1., 0., 1.],\n",
            "        [1., 1., 1., 1., 0., 1., 1., 1., 0., 1.],\n",
            "        [1., 1., 1., 1., 0., 1., 1., 1., 0., 1.],\n",
            "        [1., 1., 1., 1., 0., 1., 1., 1., 0., 1.],\n",
            "        [1., 1., 1., 1., 0., 1., 1., 1., 0., 1.],\n",
            "        [1., 1., 1., 1., 0., 1., 1., 1., 0., 1.],\n",
            "        [1., 1., 1., 1., 0., 1., 1., 1., 0., 1.],\n",
            "        [1., 1., 1., 1., 0., 1., 1., 1., 0., 1.],\n",
            "        [1., 1., 1., 1., 0., 1., 1., 1., 0., 1.],\n",
            "        [1., 1., 1., 1., 0., 1., 1., 1., 0., 1.],\n",
            "        [1., 1., 1., 1., 0., 1., 1., 1., 0., 1.],\n",
            "        [1., 1., 1., 1., 0., 1., 1., 1., 0., 1.],\n",
            "        [1., 1., 1., 1., 0., 1., 1., 1., 0., 1.],\n",
            "        [1., 1., 1., 1., 0., 1., 1., 1., 0., 1.],\n",
            "        [1., 1., 1., 1., 0., 1., 1., 1., 0., 1.],\n",
            "        [1., 1., 1., 1., 0., 1., 1., 1., 0., 1.],\n",
            "        [1., 1., 1., 1., 0., 1., 1., 1., 0., 1.],\n",
            "        [1., 1., 1., 1., 0., 1., 1., 1., 0., 1.],\n",
            "        [1., 1., 1., 1., 0., 1., 1., 1., 0., 1.],\n",
            "        [1., 1., 1., 1., 0., 1., 1., 1., 0., 1.],\n",
            "        [1., 1., 1., 1., 0., 1., 1., 1., 0., 1.]])\n"
          ]
        }
      ],
      "source": [
        "import xml.etree.ElementTree as ET\n",
        "import glob\n",
        "import re\n",
        "import torch\n",
        "\n",
        "def encoded_vec(xml_file_path):\n",
        "    tree = ET.parse(xml_file_path)\n",
        "    root = tree.getroot()\n",
        "\n",
        "    name_counts = {}\n",
        "    vector = torch.zeros(10, dtype=torch.float32)\n",
        "\n",
        "    for obj in root.findall('.//object'):\n",
        "        names = obj.findall('.//name')\n",
        "\n",
        "        if names:\n",
        "            for name in names:\n",
        "                digit_match = re.search(r'\\d', name.text)\n",
        "\n",
        "                if digit_match:\n",
        "                    digit = int(digit_match.group())\n",
        "                    vector[digit] = 1\n",
        "\n",
        "    return vector\n",
        "\n",
        "labels = []\n",
        "for xml_path in xmls_path:\n",
        "    label = encoded_vec(xml_path)\n",
        "    labels.append(label)\n",
        "\n",
        "labels_tensor = torch.stack(labels)\n",
        "print(labels_tensor)\n"
      ]
    },
    {
      "cell_type": "code",
      "execution_count": null,
      "id": "7562083f",
      "metadata": {
        "execution": {
          "iopub.execute_input": "2024-01-17T06:49:50.106026Z",
          "iopub.status.busy": "2024-01-17T06:49:50.104656Z",
          "iopub.status.idle": "2024-01-17T06:49:50.111058Z",
          "shell.execute_reply": "2024-01-17T06:49:50.109901Z"
        },
        "papermill": {
          "duration": 0.020658,
          "end_time": "2024-01-17T06:49:50.114231",
          "exception": false,
          "start_time": "2024-01-17T06:49:50.093573",
          "status": "completed"
        },
        "tags": [],
        "id": "7562083f",
        "colab": {
          "base_uri": "https://localhost:8080/"
        },
        "outputId": "d4a42e93-0225-47b6-c3af-237fc38b050c"
      },
      "outputs": [
        {
          "output_type": "stream",
          "name": "stdout",
          "text": [
            "Requirement already satisfied: torch in /usr/local/lib/python3.10/dist-packages (2.1.0+cu121)\n",
            "Requirement already satisfied: torchvision in /usr/local/lib/python3.10/dist-packages (0.16.0+cu121)\n",
            "Requirement already satisfied: filelock in /usr/local/lib/python3.10/dist-packages (from torch) (3.13.1)\n",
            "Requirement already satisfied: typing-extensions in /usr/local/lib/python3.10/dist-packages (from torch) (4.9.0)\n",
            "Requirement already satisfied: sympy in /usr/local/lib/python3.10/dist-packages (from torch) (1.12)\n",
            "Requirement already satisfied: networkx in /usr/local/lib/python3.10/dist-packages (from torch) (3.2.1)\n",
            "Requirement already satisfied: jinja2 in /usr/local/lib/python3.10/dist-packages (from torch) (3.1.3)\n",
            "Requirement already satisfied: fsspec in /usr/local/lib/python3.10/dist-packages (from torch) (2023.6.0)\n",
            "Requirement already satisfied: triton==2.1.0 in /usr/local/lib/python3.10/dist-packages (from torch) (2.1.0)\n",
            "Requirement already satisfied: numpy in /usr/local/lib/python3.10/dist-packages (from torchvision) (1.23.5)\n",
            "Requirement already satisfied: requests in /usr/local/lib/python3.10/dist-packages (from torchvision) (2.31.0)\n",
            "Requirement already satisfied: pillow!=8.3.*,>=5.3.0 in /usr/local/lib/python3.10/dist-packages (from torchvision) (9.4.0)\n",
            "Requirement already satisfied: MarkupSafe>=2.0 in /usr/local/lib/python3.10/dist-packages (from jinja2->torch) (2.1.5)\n",
            "Requirement already satisfied: charset-normalizer<4,>=2 in /usr/local/lib/python3.10/dist-packages (from requests->torchvision) (3.3.2)\n",
            "Requirement already satisfied: idna<4,>=2.5 in /usr/local/lib/python3.10/dist-packages (from requests->torchvision) (3.6)\n",
            "Requirement already satisfied: urllib3<3,>=1.21.1 in /usr/local/lib/python3.10/dist-packages (from requests->torchvision) (2.0.7)\n",
            "Requirement already satisfied: certifi>=2017.4.17 in /usr/local/lib/python3.10/dist-packages (from requests->torchvision) (2024.2.2)\n",
            "Requirement already satisfied: mpmath>=0.19 in /usr/local/lib/python3.10/dist-packages (from sympy->torch) (1.3.0)\n"
          ]
        }
      ],
      "source": [
        "!pip install torch torchvision"
      ]
    },
    {
      "cell_type": "code",
      "execution_count": 12,
      "id": "5b711338",
      "metadata": {
        "execution": {
          "iopub.execute_input": "2024-01-17T06:49:50.136048Z",
          "iopub.status.busy": "2024-01-17T06:49:50.135609Z",
          "iopub.status.idle": "2024-01-17T06:49:50.845142Z",
          "shell.execute_reply": "2024-01-17T06:49:50.843600Z"
        },
        "papermill": {
          "duration": 0.725887,
          "end_time": "2024-01-17T06:49:50.850219",
          "exception": false,
          "start_time": "2024-01-17T06:49:50.124332",
          "status": "completed"
        },
        "tags": [],
        "id": "5b711338"
      },
      "outputs": [],
      "source": [
        "from torch.utils.data import Dataset, DataLoader\n",
        "from torchvision import transforms\n",
        "from PIL import Image\n",
        "\n",
        "class CustomDataset(Dataset):\n",
        "    def __init__(self, img_paths, labels, transform=None):\n",
        "        self.img_paths = img_paths\n",
        "        self.labels = labels\n",
        "        self.transform = transform\n",
        "\n",
        "    def __len__(self):\n",
        "        return len(self.img_paths)\n",
        "\n",
        "    def __getitem__(self, idx):\n",
        "        img_path = self.img_paths[idx]\n",
        "        #label = torch.tensor(self.labels[idx], dtype=torch.float32)\n",
        "        label = self.labels[idx].clone().detach().to(torch.float32)\n",
        "\n",
        "        img = Image.open(img_path)\n",
        "        if self.transform:\n",
        "            img = self.transform(img)\n",
        "\n",
        "        return img, label\n",
        "\n",
        "transform = transforms.Compose([\n",
        "    transforms.Grayscale(num_output_channels=3),\n",
        "    transforms.Resize((224, 224)),\n",
        "    transforms.ToTensor(),\n",
        "    transforms.Normalize(mean=[0.485, 0.456, 0.406], std=[0.229, 0.224, 0.225])\n",
        "])\n",
        "\n",
        "custom_dataset = CustomDataset(images_data, labels_tensor, transform=transform)\n",
        "\n",
        "train_size = int(0.7 * len(custom_dataset))\n",
        "val_test_size = len(custom_dataset) - train_size\n",
        "train_dataset, remaining_dataset = torch.utils.data.random_split(custom_dataset, [train_size, val_test_size])\n",
        "\n",
        "val_size = int(0.5 * len(remaining_dataset))\n",
        "test_size = len(remaining_dataset) - val_size\n",
        "val_dataset, test_dataset = torch.utils.data.random_split(remaining_dataset, [val_size, test_size])\n",
        "\n",
        "batch_size = 128\n",
        "train_dataloader = DataLoader(train_dataset, batch_size=batch_size, shuffle=True)\n",
        "val_dataloader = DataLoader(val_dataset, batch_size=batch_size, shuffle=False)\n",
        "test_dataloader = DataLoader(test_dataset, batch_size=batch_size, shuffle=False)\n",
        "\n",
        "# for img, label in train_dataloader:\n",
        "#     # img is a batch of preprocessed images\n",
        "#     # label is a batch of labels\n",
        "#     # Your training logic goes here\n",
        "#     pass\n"
      ]
    },
    {
      "cell_type": "code",
      "execution_count": 13,
      "id": "223394a6",
      "metadata": {
        "execution": {
          "iopub.execute_input": "2024-01-17T06:49:50.880256Z",
          "iopub.status.busy": "2024-01-17T06:49:50.879658Z",
          "iopub.status.idle": "2024-01-17T06:49:58.275958Z",
          "shell.execute_reply": "2024-01-17T06:49:58.271859Z"
        },
        "papermill": {
          "duration": 7.414176,
          "end_time": "2024-01-17T06:49:58.279669",
          "exception": false,
          "start_time": "2024-01-17T06:49:50.865493",
          "status": "completed"
        },
        "tags": [],
        "id": "223394a6",
        "outputId": "6e9ca1b0-6a4a-4f9a-e985-bb5529bcb8b9",
        "colab": {
          "base_uri": "https://localhost:8080/"
        }
      },
      "outputs": [
        {
          "output_type": "stream",
          "name": "stdout",
          "text": [
            "Element 0: tensor([[[[-1.8782, -1.8268, -1.6213,  ..., -1.9467, -1.9467, -1.9295],\n",
            "          [-1.8610, -1.6898, -1.4158,  ..., -1.9467, -1.9467, -1.9467],\n",
            "          [-1.7069, -1.5357, -1.3815,  ..., -1.9467, -1.9467, -1.9638],\n",
            "          ...,\n",
            "          [-1.5014, -1.4672, -1.4329,  ..., -1.4672, -1.4329, -1.7069],\n",
            "          [-1.5014, -1.4843, -1.4500,  ..., -1.4672, -1.4500, -1.6727],\n",
            "          [-1.4672, -1.4843, -1.4329,  ..., -1.5014, -1.4158, -1.4158]],\n",
            "\n",
            "         [[-1.7906, -1.7381, -1.5280,  ..., -1.8606, -1.8606, -1.8431],\n",
            "          [-1.7731, -1.5980, -1.3179,  ..., -1.8606, -1.8606, -1.8606],\n",
            "          [-1.6155, -1.4405, -1.2829,  ..., -1.8606, -1.8606, -1.8782],\n",
            "          ...,\n",
            "          [-1.4055, -1.3704, -1.3354,  ..., -1.3704, -1.3354, -1.6155],\n",
            "          [-1.4055, -1.3880, -1.3529,  ..., -1.3704, -1.3529, -1.5805],\n",
            "          [-1.3704, -1.3880, -1.3354,  ..., -1.4055, -1.3179, -1.3179]],\n",
            "\n",
            "         [[-1.5604, -1.5081, -1.2990,  ..., -1.6302, -1.6302, -1.6127],\n",
            "          [-1.5430, -1.3687, -1.0898,  ..., -1.6302, -1.6302, -1.6302],\n",
            "          [-1.3861, -1.2119, -1.0550,  ..., -1.6302, -1.6302, -1.6476],\n",
            "          ...,\n",
            "          [-1.1770, -1.1421, -1.1073,  ..., -1.1421, -1.1073, -1.3861],\n",
            "          [-1.1770, -1.1596, -1.1247,  ..., -1.1421, -1.1247, -1.3513],\n",
            "          [-1.1421, -1.1596, -1.1073,  ..., -1.1770, -1.0898, -1.0898]]],\n",
            "\n",
            "\n",
            "        [[[-1.8610, -1.8268, -1.6384,  ..., -1.9467, -1.9638, -1.9467],\n",
            "          [-1.8439, -1.6727, -1.4329,  ..., -1.9467, -1.9638, -1.9467],\n",
            "          [-1.6898, -1.5185, -1.3815,  ..., -1.9467, -1.9467, -1.9638],\n",
            "          ...,\n",
            "          [-1.4843, -1.4672, -1.4329,  ..., -1.4672, -1.4329, -1.7069],\n",
            "          [-1.5014, -1.4843, -1.4500,  ..., -1.4843, -1.4500, -1.6555],\n",
            "          [-1.4843, -1.4843, -1.4329,  ..., -1.5014, -1.4158, -1.3987]],\n",
            "\n",
            "         [[-1.7731, -1.7381, -1.5455,  ..., -1.8606, -1.8782, -1.8606],\n",
            "          [-1.7556, -1.5805, -1.3354,  ..., -1.8606, -1.8782, -1.8606],\n",
            "          [-1.5980, -1.4230, -1.2829,  ..., -1.8606, -1.8606, -1.8782],\n",
            "          ...,\n",
            "          [-1.3880, -1.3704, -1.3354,  ..., -1.3704, -1.3354, -1.6155],\n",
            "          [-1.4055, -1.3880, -1.3529,  ..., -1.3880, -1.3529, -1.5630],\n",
            "          [-1.3880, -1.3880, -1.3354,  ..., -1.4055, -1.3179, -1.3004]],\n",
            "\n",
            "         [[-1.5430, -1.5081, -1.3164,  ..., -1.6302, -1.6476, -1.6302],\n",
            "          [-1.5256, -1.3513, -1.1073,  ..., -1.6302, -1.6476, -1.6302],\n",
            "          [-1.3687, -1.1944, -1.0550,  ..., -1.6302, -1.6302, -1.6476],\n",
            "          ...,\n",
            "          [-1.1596, -1.1421, -1.1073,  ..., -1.1421, -1.1073, -1.3861],\n",
            "          [-1.1770, -1.1596, -1.1247,  ..., -1.1596, -1.1247, -1.3339],\n",
            "          [-1.1596, -1.1596, -1.1073,  ..., -1.1770, -1.0898, -1.0724]]],\n",
            "\n",
            "\n",
            "        [[[-1.8953, -1.8782, -1.6898,  ..., -1.8268, -1.8439, -1.7925],\n",
            "          [-1.8782, -1.7412, -1.5014,  ..., -1.8268, -1.8610, -1.8097],\n",
            "          [-1.7583, -1.5870, -1.4672,  ..., -1.8268, -1.8782, -1.8439],\n",
            "          ...,\n",
            "          [-1.5699, -1.5699, -1.5357,  ..., -1.6042, -1.5699, -1.7754],\n",
            "          [-1.5870, -1.5699, -1.5699,  ..., -1.5870, -1.5870, -1.7412],\n",
            "          [-1.5870, -1.5699, -1.5528,  ..., -1.6042, -1.5357, -1.5357]],\n",
            "\n",
            "         [[-1.8081, -1.7906, -1.5980,  ..., -1.7381, -1.7556, -1.7031],\n",
            "          [-1.7906, -1.6506, -1.4055,  ..., -1.7381, -1.7731, -1.7206],\n",
            "          [-1.6681, -1.4930, -1.3704,  ..., -1.7381, -1.7906, -1.7556],\n",
            "          ...,\n",
            "          [-1.4755, -1.4755, -1.4405,  ..., -1.5105, -1.4755, -1.6856],\n",
            "          [-1.4930, -1.4755, -1.4755,  ..., -1.4930, -1.4930, -1.6506],\n",
            "          [-1.4930, -1.4755, -1.4580,  ..., -1.5105, -1.4405, -1.4405]],\n",
            "\n",
            "         [[-1.5779, -1.5604, -1.3687,  ..., -1.5081, -1.5256, -1.4733],\n",
            "          [-1.5604, -1.4210, -1.1770,  ..., -1.5081, -1.5430, -1.4907],\n",
            "          [-1.4384, -1.2641, -1.1421,  ..., -1.5081, -1.5604, -1.5256],\n",
            "          ...,\n",
            "          [-1.2467, -1.2467, -1.2119,  ..., -1.2816, -1.2467, -1.4559],\n",
            "          [-1.2641, -1.2467, -1.2467,  ..., -1.2641, -1.2641, -1.4210],\n",
            "          [-1.2641, -1.2467, -1.2293,  ..., -1.2816, -1.2119, -1.2119]]],\n",
            "\n",
            "\n",
            "        ...,\n",
            "\n",
            "\n",
            "        [[[-1.8953, -1.8268, -1.5699,  ..., -1.8439, -1.8097, -1.7240],\n",
            "          [-1.8439, -1.6384, -1.4672,  ..., -1.8268, -1.8268, -1.7583],\n",
            "          [-1.7583, -1.5699, -1.5185,  ..., -1.8097, -1.8439, -1.7754],\n",
            "          ...,\n",
            "          [-1.5870, -1.5870, -1.5185,  ..., -1.5699, -1.5699, -1.7925],\n",
            "          [-1.5870, -1.5870, -1.5014,  ..., -1.5699, -1.5870, -1.8097],\n",
            "          [-1.6042, -1.5699, -1.5185,  ..., -1.5870, -1.5870, -1.6555]],\n",
            "\n",
            "         [[-1.8081, -1.7381, -1.4755,  ..., -1.7556, -1.7206, -1.6331],\n",
            "          [-1.7556, -1.5455, -1.3704,  ..., -1.7381, -1.7381, -1.6681],\n",
            "          [-1.6681, -1.4755, -1.4230,  ..., -1.7206, -1.7556, -1.6856],\n",
            "          ...,\n",
            "          [-1.4930, -1.4930, -1.4230,  ..., -1.4755, -1.4755, -1.7031],\n",
            "          [-1.4930, -1.4930, -1.4055,  ..., -1.4755, -1.4930, -1.7206],\n",
            "          [-1.5105, -1.4755, -1.4230,  ..., -1.4930, -1.4930, -1.5630]],\n",
            "\n",
            "         [[-1.5779, -1.5081, -1.2467,  ..., -1.5256, -1.4907, -1.4036],\n",
            "          [-1.5256, -1.3164, -1.1421,  ..., -1.5081, -1.5081, -1.4384],\n",
            "          [-1.4384, -1.2467, -1.1944,  ..., -1.4907, -1.5256, -1.4559],\n",
            "          ...,\n",
            "          [-1.2641, -1.2641, -1.1944,  ..., -1.2467, -1.2467, -1.4733],\n",
            "          [-1.2641, -1.2641, -1.1770,  ..., -1.2467, -1.2641, -1.4907],\n",
            "          [-1.2816, -1.2467, -1.1944,  ..., -1.2641, -1.2641, -1.3339]]],\n",
            "\n",
            "\n",
            "        [[[-1.8953, -1.8439, -1.6384,  ..., -1.9467, -1.9467, -1.9467],\n",
            "          [-1.8439, -1.7069, -1.4158,  ..., -1.9467, -1.9467, -1.9467],\n",
            "          [-1.7240, -1.5357, -1.3815,  ..., -1.9295, -1.9467, -1.9467],\n",
            "          ...,\n",
            "          [-1.4843, -1.4843, -1.4329,  ..., -1.5014, -1.4843, -1.7240],\n",
            "          [-1.5014, -1.5014, -1.4672,  ..., -1.5014, -1.4843, -1.6727],\n",
            "          [-1.5014, -1.4843, -1.4500,  ..., -1.5185, -1.4672, -1.4500]],\n",
            "\n",
            "         [[-1.8081, -1.7556, -1.5455,  ..., -1.8606, -1.8606, -1.8606],\n",
            "          [-1.7556, -1.6155, -1.3179,  ..., -1.8606, -1.8606, -1.8606],\n",
            "          [-1.6331, -1.4405, -1.2829,  ..., -1.8431, -1.8606, -1.8606],\n",
            "          ...,\n",
            "          [-1.3880, -1.3880, -1.3354,  ..., -1.4055, -1.3880, -1.6331],\n",
            "          [-1.4055, -1.4055, -1.3704,  ..., -1.4055, -1.3880, -1.5805],\n",
            "          [-1.4055, -1.3880, -1.3529,  ..., -1.4230, -1.3704, -1.3529]],\n",
            "\n",
            "         [[-1.5779, -1.5256, -1.3164,  ..., -1.6302, -1.6302, -1.6302],\n",
            "          [-1.5256, -1.3861, -1.0898,  ..., -1.6302, -1.6302, -1.6302],\n",
            "          [-1.4036, -1.2119, -1.0550,  ..., -1.6127, -1.6302, -1.6302],\n",
            "          ...,\n",
            "          [-1.1596, -1.1596, -1.1073,  ..., -1.1770, -1.1596, -1.4036],\n",
            "          [-1.1770, -1.1770, -1.1421,  ..., -1.1770, -1.1596, -1.3513],\n",
            "          [-1.1770, -1.1596, -1.1247,  ..., -1.1944, -1.1421, -1.1247]]],\n",
            "\n",
            "\n",
            "        [[[-1.8953, -1.8097, -1.5870,  ..., -1.8439, -1.8268, -1.7583],\n",
            "          [-1.8268, -1.6213, -1.4843,  ..., -1.8439, -1.8439, -1.7925],\n",
            "          [-1.7583, -1.5528, -1.5014,  ..., -1.8439, -1.8610, -1.8268],\n",
            "          ...,\n",
            "          [-1.5870, -1.5870, -1.5185,  ..., -1.5699, -1.5528, -1.7925],\n",
            "          [-1.5870, -1.5870, -1.5014,  ..., -1.5528, -1.5528, -1.7925],\n",
            "          [-1.6042, -1.5699, -1.5185,  ..., -1.5699, -1.5528, -1.6555]],\n",
            "\n",
            "         [[-1.8081, -1.7206, -1.4930,  ..., -1.7556, -1.7381, -1.6681],\n",
            "          [-1.7381, -1.5280, -1.3880,  ..., -1.7556, -1.7556, -1.7031],\n",
            "          [-1.6681, -1.4580, -1.4055,  ..., -1.7556, -1.7731, -1.7381],\n",
            "          ...,\n",
            "          [-1.4930, -1.4930, -1.4230,  ..., -1.4755, -1.4580, -1.7031],\n",
            "          [-1.4930, -1.4930, -1.4055,  ..., -1.4580, -1.4580, -1.7031],\n",
            "          [-1.5105, -1.4755, -1.4230,  ..., -1.4755, -1.4580, -1.5630]],\n",
            "\n",
            "         [[-1.5779, -1.4907, -1.2641,  ..., -1.5256, -1.5081, -1.4384],\n",
            "          [-1.5081, -1.2990, -1.1596,  ..., -1.5256, -1.5256, -1.4733],\n",
            "          [-1.4384, -1.2293, -1.1770,  ..., -1.5256, -1.5430, -1.5081],\n",
            "          ...,\n",
            "          [-1.2641, -1.2641, -1.1944,  ..., -1.2467, -1.2293, -1.4733],\n",
            "          [-1.2641, -1.2641, -1.1770,  ..., -1.2293, -1.2293, -1.4733],\n",
            "          [-1.2816, -1.2467, -1.1944,  ..., -1.2467, -1.2293, -1.3339]]]])\n",
            "Element 1: tensor([[1., 1., 1., 1., 0., 1., 1., 1., 0., 1.],\n",
            "        [1., 1., 1., 1., 0., 1., 1., 1., 0., 1.],\n",
            "        [1., 1., 1., 1., 0., 1., 1., 1., 0., 1.],\n",
            "        [1., 1., 1., 1., 0., 1., 1., 1., 0., 1.],\n",
            "        [1., 1., 1., 1., 0., 1., 1., 1., 0., 1.],\n",
            "        [1., 1., 1., 1., 0., 1., 1., 1., 0., 1.],\n",
            "        [1., 1., 1., 1., 0., 1., 1., 1., 0., 1.],\n",
            "        [1., 1., 1., 1., 0., 1., 1., 1., 0., 1.],\n",
            "        [1., 1., 1., 1., 0., 1., 1., 1., 0., 1.],\n",
            "        [1., 1., 1., 1., 0., 1., 1., 1., 0., 1.],\n",
            "        [1., 1., 1., 1., 1., 1., 1., 1., 0., 1.],\n",
            "        [1., 1., 1., 1., 0., 1., 1., 1., 0., 1.],\n",
            "        [1., 1., 1., 1., 0., 1., 1., 1., 0., 1.],\n",
            "        [1., 1., 1., 1., 0., 1., 1., 1., 0., 1.],\n",
            "        [1., 1., 1., 1., 0., 1., 1., 1., 0., 1.],\n",
            "        [1., 1., 1., 1., 0., 1., 1., 1., 0., 1.],\n",
            "        [1., 1., 1., 1., 1., 1., 1., 1., 0., 1.],\n",
            "        [1., 1., 1., 1., 0., 1., 1., 1., 0., 1.],\n",
            "        [1., 1., 1., 1., 0., 1., 1., 1., 0., 1.],\n",
            "        [1., 1., 1., 1., 1., 1., 1., 1., 0., 1.],\n",
            "        [1., 1., 1., 1., 0., 1., 1., 1., 0., 1.],\n",
            "        [1., 1., 1., 1., 0., 1., 1., 1., 0., 1.],\n",
            "        [1., 1., 1., 1., 0., 1., 1., 1., 0., 1.],\n",
            "        [1., 1., 1., 1., 1., 1., 1., 1., 0., 1.],\n",
            "        [1., 1., 1., 1., 1., 1., 1., 1., 0., 1.],\n",
            "        [1., 1., 1., 1., 1., 1., 1., 1., 0., 1.],\n",
            "        [1., 1., 1., 1., 0., 1., 1., 1., 0., 1.],\n",
            "        [1., 1., 1., 1., 0., 1., 1., 1., 0., 1.],\n",
            "        [1., 1., 1., 1., 0., 1., 1., 1., 0., 1.],\n",
            "        [1., 1., 1., 1., 0., 1., 1., 1., 0., 1.],\n",
            "        [1., 1., 1., 1., 0., 1., 1., 1., 0., 1.],\n",
            "        [1., 1., 1., 1., 0., 1., 1., 1., 0., 1.],\n",
            "        [1., 1., 1., 1., 1., 1., 1., 1., 0., 1.],\n",
            "        [1., 1., 1., 1., 0., 1., 1., 1., 0., 1.],\n",
            "        [1., 1., 1., 1., 1., 1., 1., 1., 0., 1.],\n",
            "        [1., 1., 1., 1., 1., 1., 1., 1., 0., 1.],\n",
            "        [1., 1., 1., 1., 0., 1., 1., 1., 0., 1.],\n",
            "        [1., 1., 1., 1., 0., 1., 1., 1., 0., 1.],\n",
            "        [1., 1., 1., 1., 0., 1., 1., 1., 0., 1.],\n",
            "        [1., 1., 1., 1., 0., 1., 1., 1., 0., 1.],\n",
            "        [1., 1., 1., 1., 1., 1., 1., 1., 0., 1.],\n",
            "        [1., 1., 1., 1., 0., 1., 1., 1., 0., 1.],\n",
            "        [1., 1., 1., 1., 0., 1., 1., 1., 0., 1.],\n",
            "        [1., 1., 1., 1., 0., 1., 1., 1., 0., 1.]])\n"
          ]
        }
      ],
      "source": [
        "first_batch = next(iter(train_dataloader))\n",
        "\n",
        "#print(f\"Sample:\\n{batch['sample']}\")\n",
        "#print(f\"Target:\\n{batch['target']}\")\n",
        "\n",
        "for index, value in enumerate(first_batch):\n",
        "    print(f\"Element {index}: {value}\")\n"
      ]
    },
    {
      "cell_type": "code",
      "execution_count": 14,
      "id": "83af4e01",
      "metadata": {
        "execution": {
          "iopub.execute_input": "2024-01-17T06:49:58.301083Z",
          "iopub.status.busy": "2024-01-17T06:49:58.300180Z",
          "iopub.status.idle": "2024-01-17T06:49:58.310226Z",
          "shell.execute_reply": "2024-01-17T06:49:58.308448Z"
        },
        "papermill": {
          "duration": 0.024056,
          "end_time": "2024-01-17T06:49:58.313225",
          "exception": false,
          "start_time": "2024-01-17T06:49:58.289169",
          "status": "completed"
        },
        "tags": [],
        "id": "83af4e01",
        "outputId": "81bc18b4-be38-46ad-cc40-20ecc76546ac",
        "colab": {
          "base_uri": "https://localhost:8080/"
        }
      },
      "outputs": [
        {
          "output_type": "execute_result",
          "data": {
            "text/plain": [
              "torch.Size([44, 3, 224, 224])"
            ]
          },
          "metadata": {},
          "execution_count": 14
        }
      ],
      "source": [
        "first_batch[0].shape"
      ]
    },
    {
      "cell_type": "code",
      "execution_count": 15,
      "id": "d3ef2b3d",
      "metadata": {
        "execution": {
          "iopub.execute_input": "2024-01-17T06:49:58.336096Z",
          "iopub.status.busy": "2024-01-17T06:49:58.335612Z",
          "iopub.status.idle": "2024-01-17T06:49:59.629833Z",
          "shell.execute_reply": "2024-01-17T06:49:59.628270Z"
        },
        "papermill": {
          "duration": 1.309869,
          "end_time": "2024-01-17T06:49:59.633024",
          "exception": false,
          "start_time": "2024-01-17T06:49:58.323155",
          "status": "completed"
        },
        "tags": [],
        "id": "d3ef2b3d",
        "outputId": "a53feb7d-3249-40e8-d1ee-528937823be5",
        "colab": {
          "base_uri": "https://localhost:8080/"
        }
      },
      "outputs": [
        {
          "output_type": "stream",
          "name": "stderr",
          "text": [
            "/usr/local/lib/python3.10/dist-packages/torchvision/models/_utils.py:208: UserWarning: The parameter 'pretrained' is deprecated since 0.13 and may be removed in the future, please use 'weights' instead.\n",
            "  warnings.warn(\n",
            "/usr/local/lib/python3.10/dist-packages/torchvision/models/_utils.py:223: UserWarning: Arguments other than a weight enum or `None` for 'weights' are deprecated since 0.13 and may be removed in the future. The current behavior is equivalent to passing `weights=ResNet50_Weights.IMAGENET1K_V1`. You can also use `weights=ResNet50_Weights.DEFAULT` to get the most up-to-date weights.\n",
            "  warnings.warn(msg)\n",
            "Downloading: \"https://download.pytorch.org/models/resnet50-0676ba61.pth\" to /root/.cache/torch/hub/checkpoints/resnet50-0676ba61.pth\n",
            "100%|██████████| 97.8M/97.8M [00:00<00:00, 121MB/s]\n"
          ]
        }
      ],
      "source": [
        "import torch\n",
        "import torchvision.models as models\n",
        "import torch.nn as nn\n",
        "\n",
        "pretrained_model = models.resnet50(pretrained=True)"
      ]
    },
    {
      "cell_type": "code",
      "execution_count": 16,
      "id": "d7b8b0a0",
      "metadata": {
        "execution": {
          "iopub.execute_input": "2024-01-17T06:49:59.661218Z",
          "iopub.status.busy": "2024-01-17T06:49:59.660687Z",
          "iopub.status.idle": "2024-01-17T06:49:59.673878Z",
          "shell.execute_reply": "2024-01-17T06:49:59.670670Z"
        },
        "papermill": {
          "duration": 0.031715,
          "end_time": "2024-01-17T06:49:59.677338",
          "exception": false,
          "start_time": "2024-01-17T06:49:59.645623",
          "status": "completed"
        },
        "tags": [],
        "id": "d7b8b0a0",
        "outputId": "8d7574c6-b288-4b4d-e674-75ba12f3ccc0",
        "colab": {
          "base_uri": "https://localhost:8080/"
        }
      },
      "outputs": [
        {
          "output_type": "stream",
          "name": "stdout",
          "text": [
            "ResNet(\n",
            "  (conv1): Conv2d(3, 64, kernel_size=(7, 7), stride=(2, 2), padding=(3, 3), bias=False)\n",
            "  (bn1): BatchNorm2d(64, eps=1e-05, momentum=0.1, affine=True, track_running_stats=True)\n",
            "  (relu): ReLU(inplace=True)\n",
            "  (maxpool): MaxPool2d(kernel_size=3, stride=2, padding=1, dilation=1, ceil_mode=False)\n",
            "  (layer1): Sequential(\n",
            "    (0): Bottleneck(\n",
            "      (conv1): Conv2d(64, 64, kernel_size=(1, 1), stride=(1, 1), bias=False)\n",
            "      (bn1): BatchNorm2d(64, eps=1e-05, momentum=0.1, affine=True, track_running_stats=True)\n",
            "      (conv2): Conv2d(64, 64, kernel_size=(3, 3), stride=(1, 1), padding=(1, 1), bias=False)\n",
            "      (bn2): BatchNorm2d(64, eps=1e-05, momentum=0.1, affine=True, track_running_stats=True)\n",
            "      (conv3): Conv2d(64, 256, kernel_size=(1, 1), stride=(1, 1), bias=False)\n",
            "      (bn3): BatchNorm2d(256, eps=1e-05, momentum=0.1, affine=True, track_running_stats=True)\n",
            "      (relu): ReLU(inplace=True)\n",
            "      (downsample): Sequential(\n",
            "        (0): Conv2d(64, 256, kernel_size=(1, 1), stride=(1, 1), bias=False)\n",
            "        (1): BatchNorm2d(256, eps=1e-05, momentum=0.1, affine=True, track_running_stats=True)\n",
            "      )\n",
            "    )\n",
            "    (1): Bottleneck(\n",
            "      (conv1): Conv2d(256, 64, kernel_size=(1, 1), stride=(1, 1), bias=False)\n",
            "      (bn1): BatchNorm2d(64, eps=1e-05, momentum=0.1, affine=True, track_running_stats=True)\n",
            "      (conv2): Conv2d(64, 64, kernel_size=(3, 3), stride=(1, 1), padding=(1, 1), bias=False)\n",
            "      (bn2): BatchNorm2d(64, eps=1e-05, momentum=0.1, affine=True, track_running_stats=True)\n",
            "      (conv3): Conv2d(64, 256, kernel_size=(1, 1), stride=(1, 1), bias=False)\n",
            "      (bn3): BatchNorm2d(256, eps=1e-05, momentum=0.1, affine=True, track_running_stats=True)\n",
            "      (relu): ReLU(inplace=True)\n",
            "    )\n",
            "    (2): Bottleneck(\n",
            "      (conv1): Conv2d(256, 64, kernel_size=(1, 1), stride=(1, 1), bias=False)\n",
            "      (bn1): BatchNorm2d(64, eps=1e-05, momentum=0.1, affine=True, track_running_stats=True)\n",
            "      (conv2): Conv2d(64, 64, kernel_size=(3, 3), stride=(1, 1), padding=(1, 1), bias=False)\n",
            "      (bn2): BatchNorm2d(64, eps=1e-05, momentum=0.1, affine=True, track_running_stats=True)\n",
            "      (conv3): Conv2d(64, 256, kernel_size=(1, 1), stride=(1, 1), bias=False)\n",
            "      (bn3): BatchNorm2d(256, eps=1e-05, momentum=0.1, affine=True, track_running_stats=True)\n",
            "      (relu): ReLU(inplace=True)\n",
            "    )\n",
            "  )\n",
            "  (layer2): Sequential(\n",
            "    (0): Bottleneck(\n",
            "      (conv1): Conv2d(256, 128, kernel_size=(1, 1), stride=(1, 1), bias=False)\n",
            "      (bn1): BatchNorm2d(128, eps=1e-05, momentum=0.1, affine=True, track_running_stats=True)\n",
            "      (conv2): Conv2d(128, 128, kernel_size=(3, 3), stride=(2, 2), padding=(1, 1), bias=False)\n",
            "      (bn2): BatchNorm2d(128, eps=1e-05, momentum=0.1, affine=True, track_running_stats=True)\n",
            "      (conv3): Conv2d(128, 512, kernel_size=(1, 1), stride=(1, 1), bias=False)\n",
            "      (bn3): BatchNorm2d(512, eps=1e-05, momentum=0.1, affine=True, track_running_stats=True)\n",
            "      (relu): ReLU(inplace=True)\n",
            "      (downsample): Sequential(\n",
            "        (0): Conv2d(256, 512, kernel_size=(1, 1), stride=(2, 2), bias=False)\n",
            "        (1): BatchNorm2d(512, eps=1e-05, momentum=0.1, affine=True, track_running_stats=True)\n",
            "      )\n",
            "    )\n",
            "    (1): Bottleneck(\n",
            "      (conv1): Conv2d(512, 128, kernel_size=(1, 1), stride=(1, 1), bias=False)\n",
            "      (bn1): BatchNorm2d(128, eps=1e-05, momentum=0.1, affine=True, track_running_stats=True)\n",
            "      (conv2): Conv2d(128, 128, kernel_size=(3, 3), stride=(1, 1), padding=(1, 1), bias=False)\n",
            "      (bn2): BatchNorm2d(128, eps=1e-05, momentum=0.1, affine=True, track_running_stats=True)\n",
            "      (conv3): Conv2d(128, 512, kernel_size=(1, 1), stride=(1, 1), bias=False)\n",
            "      (bn3): BatchNorm2d(512, eps=1e-05, momentum=0.1, affine=True, track_running_stats=True)\n",
            "      (relu): ReLU(inplace=True)\n",
            "    )\n",
            "    (2): Bottleneck(\n",
            "      (conv1): Conv2d(512, 128, kernel_size=(1, 1), stride=(1, 1), bias=False)\n",
            "      (bn1): BatchNorm2d(128, eps=1e-05, momentum=0.1, affine=True, track_running_stats=True)\n",
            "      (conv2): Conv2d(128, 128, kernel_size=(3, 3), stride=(1, 1), padding=(1, 1), bias=False)\n",
            "      (bn2): BatchNorm2d(128, eps=1e-05, momentum=0.1, affine=True, track_running_stats=True)\n",
            "      (conv3): Conv2d(128, 512, kernel_size=(1, 1), stride=(1, 1), bias=False)\n",
            "      (bn3): BatchNorm2d(512, eps=1e-05, momentum=0.1, affine=True, track_running_stats=True)\n",
            "      (relu): ReLU(inplace=True)\n",
            "    )\n",
            "    (3): Bottleneck(\n",
            "      (conv1): Conv2d(512, 128, kernel_size=(1, 1), stride=(1, 1), bias=False)\n",
            "      (bn1): BatchNorm2d(128, eps=1e-05, momentum=0.1, affine=True, track_running_stats=True)\n",
            "      (conv2): Conv2d(128, 128, kernel_size=(3, 3), stride=(1, 1), padding=(1, 1), bias=False)\n",
            "      (bn2): BatchNorm2d(128, eps=1e-05, momentum=0.1, affine=True, track_running_stats=True)\n",
            "      (conv3): Conv2d(128, 512, kernel_size=(1, 1), stride=(1, 1), bias=False)\n",
            "      (bn3): BatchNorm2d(512, eps=1e-05, momentum=0.1, affine=True, track_running_stats=True)\n",
            "      (relu): ReLU(inplace=True)\n",
            "    )\n",
            "  )\n",
            "  (layer3): Sequential(\n",
            "    (0): Bottleneck(\n",
            "      (conv1): Conv2d(512, 256, kernel_size=(1, 1), stride=(1, 1), bias=False)\n",
            "      (bn1): BatchNorm2d(256, eps=1e-05, momentum=0.1, affine=True, track_running_stats=True)\n",
            "      (conv2): Conv2d(256, 256, kernel_size=(3, 3), stride=(2, 2), padding=(1, 1), bias=False)\n",
            "      (bn2): BatchNorm2d(256, eps=1e-05, momentum=0.1, affine=True, track_running_stats=True)\n",
            "      (conv3): Conv2d(256, 1024, kernel_size=(1, 1), stride=(1, 1), bias=False)\n",
            "      (bn3): BatchNorm2d(1024, eps=1e-05, momentum=0.1, affine=True, track_running_stats=True)\n",
            "      (relu): ReLU(inplace=True)\n",
            "      (downsample): Sequential(\n",
            "        (0): Conv2d(512, 1024, kernel_size=(1, 1), stride=(2, 2), bias=False)\n",
            "        (1): BatchNorm2d(1024, eps=1e-05, momentum=0.1, affine=True, track_running_stats=True)\n",
            "      )\n",
            "    )\n",
            "    (1): Bottleneck(\n",
            "      (conv1): Conv2d(1024, 256, kernel_size=(1, 1), stride=(1, 1), bias=False)\n",
            "      (bn1): BatchNorm2d(256, eps=1e-05, momentum=0.1, affine=True, track_running_stats=True)\n",
            "      (conv2): Conv2d(256, 256, kernel_size=(3, 3), stride=(1, 1), padding=(1, 1), bias=False)\n",
            "      (bn2): BatchNorm2d(256, eps=1e-05, momentum=0.1, affine=True, track_running_stats=True)\n",
            "      (conv3): Conv2d(256, 1024, kernel_size=(1, 1), stride=(1, 1), bias=False)\n",
            "      (bn3): BatchNorm2d(1024, eps=1e-05, momentum=0.1, affine=True, track_running_stats=True)\n",
            "      (relu): ReLU(inplace=True)\n",
            "    )\n",
            "    (2): Bottleneck(\n",
            "      (conv1): Conv2d(1024, 256, kernel_size=(1, 1), stride=(1, 1), bias=False)\n",
            "      (bn1): BatchNorm2d(256, eps=1e-05, momentum=0.1, affine=True, track_running_stats=True)\n",
            "      (conv2): Conv2d(256, 256, kernel_size=(3, 3), stride=(1, 1), padding=(1, 1), bias=False)\n",
            "      (bn2): BatchNorm2d(256, eps=1e-05, momentum=0.1, affine=True, track_running_stats=True)\n",
            "      (conv3): Conv2d(256, 1024, kernel_size=(1, 1), stride=(1, 1), bias=False)\n",
            "      (bn3): BatchNorm2d(1024, eps=1e-05, momentum=0.1, affine=True, track_running_stats=True)\n",
            "      (relu): ReLU(inplace=True)\n",
            "    )\n",
            "    (3): Bottleneck(\n",
            "      (conv1): Conv2d(1024, 256, kernel_size=(1, 1), stride=(1, 1), bias=False)\n",
            "      (bn1): BatchNorm2d(256, eps=1e-05, momentum=0.1, affine=True, track_running_stats=True)\n",
            "      (conv2): Conv2d(256, 256, kernel_size=(3, 3), stride=(1, 1), padding=(1, 1), bias=False)\n",
            "      (bn2): BatchNorm2d(256, eps=1e-05, momentum=0.1, affine=True, track_running_stats=True)\n",
            "      (conv3): Conv2d(256, 1024, kernel_size=(1, 1), stride=(1, 1), bias=False)\n",
            "      (bn3): BatchNorm2d(1024, eps=1e-05, momentum=0.1, affine=True, track_running_stats=True)\n",
            "      (relu): ReLU(inplace=True)\n",
            "    )\n",
            "    (4): Bottleneck(\n",
            "      (conv1): Conv2d(1024, 256, kernel_size=(1, 1), stride=(1, 1), bias=False)\n",
            "      (bn1): BatchNorm2d(256, eps=1e-05, momentum=0.1, affine=True, track_running_stats=True)\n",
            "      (conv2): Conv2d(256, 256, kernel_size=(3, 3), stride=(1, 1), padding=(1, 1), bias=False)\n",
            "      (bn2): BatchNorm2d(256, eps=1e-05, momentum=0.1, affine=True, track_running_stats=True)\n",
            "      (conv3): Conv2d(256, 1024, kernel_size=(1, 1), stride=(1, 1), bias=False)\n",
            "      (bn3): BatchNorm2d(1024, eps=1e-05, momentum=0.1, affine=True, track_running_stats=True)\n",
            "      (relu): ReLU(inplace=True)\n",
            "    )\n",
            "    (5): Bottleneck(\n",
            "      (conv1): Conv2d(1024, 256, kernel_size=(1, 1), stride=(1, 1), bias=False)\n",
            "      (bn1): BatchNorm2d(256, eps=1e-05, momentum=0.1, affine=True, track_running_stats=True)\n",
            "      (conv2): Conv2d(256, 256, kernel_size=(3, 3), stride=(1, 1), padding=(1, 1), bias=False)\n",
            "      (bn2): BatchNorm2d(256, eps=1e-05, momentum=0.1, affine=True, track_running_stats=True)\n",
            "      (conv3): Conv2d(256, 1024, kernel_size=(1, 1), stride=(1, 1), bias=False)\n",
            "      (bn3): BatchNorm2d(1024, eps=1e-05, momentum=0.1, affine=True, track_running_stats=True)\n",
            "      (relu): ReLU(inplace=True)\n",
            "    )\n",
            "  )\n",
            "  (layer4): Sequential(\n",
            "    (0): Bottleneck(\n",
            "      (conv1): Conv2d(1024, 512, kernel_size=(1, 1), stride=(1, 1), bias=False)\n",
            "      (bn1): BatchNorm2d(512, eps=1e-05, momentum=0.1, affine=True, track_running_stats=True)\n",
            "      (conv2): Conv2d(512, 512, kernel_size=(3, 3), stride=(2, 2), padding=(1, 1), bias=False)\n",
            "      (bn2): BatchNorm2d(512, eps=1e-05, momentum=0.1, affine=True, track_running_stats=True)\n",
            "      (conv3): Conv2d(512, 2048, kernel_size=(1, 1), stride=(1, 1), bias=False)\n",
            "      (bn3): BatchNorm2d(2048, eps=1e-05, momentum=0.1, affine=True, track_running_stats=True)\n",
            "      (relu): ReLU(inplace=True)\n",
            "      (downsample): Sequential(\n",
            "        (0): Conv2d(1024, 2048, kernel_size=(1, 1), stride=(2, 2), bias=False)\n",
            "        (1): BatchNorm2d(2048, eps=1e-05, momentum=0.1, affine=True, track_running_stats=True)\n",
            "      )\n",
            "    )\n",
            "    (1): Bottleneck(\n",
            "      (conv1): Conv2d(2048, 512, kernel_size=(1, 1), stride=(1, 1), bias=False)\n",
            "      (bn1): BatchNorm2d(512, eps=1e-05, momentum=0.1, affine=True, track_running_stats=True)\n",
            "      (conv2): Conv2d(512, 512, kernel_size=(3, 3), stride=(1, 1), padding=(1, 1), bias=False)\n",
            "      (bn2): BatchNorm2d(512, eps=1e-05, momentum=0.1, affine=True, track_running_stats=True)\n",
            "      (conv3): Conv2d(512, 2048, kernel_size=(1, 1), stride=(1, 1), bias=False)\n",
            "      (bn3): BatchNorm2d(2048, eps=1e-05, momentum=0.1, affine=True, track_running_stats=True)\n",
            "      (relu): ReLU(inplace=True)\n",
            "    )\n",
            "    (2): Bottleneck(\n",
            "      (conv1): Conv2d(2048, 512, kernel_size=(1, 1), stride=(1, 1), bias=False)\n",
            "      (bn1): BatchNorm2d(512, eps=1e-05, momentum=0.1, affine=True, track_running_stats=True)\n",
            "      (conv2): Conv2d(512, 512, kernel_size=(3, 3), stride=(1, 1), padding=(1, 1), bias=False)\n",
            "      (bn2): BatchNorm2d(512, eps=1e-05, momentum=0.1, affine=True, track_running_stats=True)\n",
            "      (conv3): Conv2d(512, 2048, kernel_size=(1, 1), stride=(1, 1), bias=False)\n",
            "      (bn3): BatchNorm2d(2048, eps=1e-05, momentum=0.1, affine=True, track_running_stats=True)\n",
            "      (relu): ReLU(inplace=True)\n",
            "    )\n",
            "  )\n",
            "  (avgpool): AdaptiveAvgPool2d(output_size=(1, 1))\n",
            "  (fc): Linear(in_features=2048, out_features=1000, bias=True)\n",
            ")\n"
          ]
        }
      ],
      "source": [
        "print(pretrained_model)"
      ]
    },
    {
      "cell_type": "code",
      "execution_count": 17,
      "id": "57a4f3ec",
      "metadata": {
        "execution": {
          "iopub.execute_input": "2024-01-17T06:49:59.701882Z",
          "iopub.status.busy": "2024-01-17T06:49:59.701396Z",
          "iopub.status.idle": "2024-01-17T06:49:59.721714Z",
          "shell.execute_reply": "2024-01-17T06:49:59.718145Z"
        },
        "papermill": {
          "duration": 0.036367,
          "end_time": "2024-01-17T06:49:59.724960",
          "exception": false,
          "start_time": "2024-01-17T06:49:59.688593",
          "status": "completed"
        },
        "tags": [],
        "id": "57a4f3ec",
        "outputId": "63e675c6-8952-416e-8357-15c8b94c112e",
        "colab": {
          "base_uri": "https://localhost:8080/"
        }
      },
      "outputs": [
        {
          "output_type": "stream",
          "name": "stdout",
          "text": [
            "ResNet(\n",
            "  (conv1): Conv2d(3, 64, kernel_size=(7, 7), stride=(2, 2), padding=(3, 3), bias=False)\n",
            "  (bn1): BatchNorm2d(64, eps=1e-05, momentum=0.1, affine=True, track_running_stats=True)\n",
            "  (relu): ReLU(inplace=True)\n",
            "  (maxpool): MaxPool2d(kernel_size=3, stride=2, padding=1, dilation=1, ceil_mode=False)\n",
            "  (layer1): Sequential(\n",
            "    (0): Bottleneck(\n",
            "      (conv1): Conv2d(64, 64, kernel_size=(1, 1), stride=(1, 1), bias=False)\n",
            "      (bn1): BatchNorm2d(64, eps=1e-05, momentum=0.1, affine=True, track_running_stats=True)\n",
            "      (conv2): Conv2d(64, 64, kernel_size=(3, 3), stride=(1, 1), padding=(1, 1), bias=False)\n",
            "      (bn2): BatchNorm2d(64, eps=1e-05, momentum=0.1, affine=True, track_running_stats=True)\n",
            "      (conv3): Conv2d(64, 256, kernel_size=(1, 1), stride=(1, 1), bias=False)\n",
            "      (bn3): BatchNorm2d(256, eps=1e-05, momentum=0.1, affine=True, track_running_stats=True)\n",
            "      (relu): ReLU(inplace=True)\n",
            "      (downsample): Sequential(\n",
            "        (0): Conv2d(64, 256, kernel_size=(1, 1), stride=(1, 1), bias=False)\n",
            "        (1): BatchNorm2d(256, eps=1e-05, momentum=0.1, affine=True, track_running_stats=True)\n",
            "      )\n",
            "    )\n",
            "    (1): Bottleneck(\n",
            "      (conv1): Conv2d(256, 64, kernel_size=(1, 1), stride=(1, 1), bias=False)\n",
            "      (bn1): BatchNorm2d(64, eps=1e-05, momentum=0.1, affine=True, track_running_stats=True)\n",
            "      (conv2): Conv2d(64, 64, kernel_size=(3, 3), stride=(1, 1), padding=(1, 1), bias=False)\n",
            "      (bn2): BatchNorm2d(64, eps=1e-05, momentum=0.1, affine=True, track_running_stats=True)\n",
            "      (conv3): Conv2d(64, 256, kernel_size=(1, 1), stride=(1, 1), bias=False)\n",
            "      (bn3): BatchNorm2d(256, eps=1e-05, momentum=0.1, affine=True, track_running_stats=True)\n",
            "      (relu): ReLU(inplace=True)\n",
            "    )\n",
            "    (2): Bottleneck(\n",
            "      (conv1): Conv2d(256, 64, kernel_size=(1, 1), stride=(1, 1), bias=False)\n",
            "      (bn1): BatchNorm2d(64, eps=1e-05, momentum=0.1, affine=True, track_running_stats=True)\n",
            "      (conv2): Conv2d(64, 64, kernel_size=(3, 3), stride=(1, 1), padding=(1, 1), bias=False)\n",
            "      (bn2): BatchNorm2d(64, eps=1e-05, momentum=0.1, affine=True, track_running_stats=True)\n",
            "      (conv3): Conv2d(64, 256, kernel_size=(1, 1), stride=(1, 1), bias=False)\n",
            "      (bn3): BatchNorm2d(256, eps=1e-05, momentum=0.1, affine=True, track_running_stats=True)\n",
            "      (relu): ReLU(inplace=True)\n",
            "    )\n",
            "  )\n",
            "  (layer2): Sequential(\n",
            "    (0): Bottleneck(\n",
            "      (conv1): Conv2d(256, 128, kernel_size=(1, 1), stride=(1, 1), bias=False)\n",
            "      (bn1): BatchNorm2d(128, eps=1e-05, momentum=0.1, affine=True, track_running_stats=True)\n",
            "      (conv2): Conv2d(128, 128, kernel_size=(3, 3), stride=(2, 2), padding=(1, 1), bias=False)\n",
            "      (bn2): BatchNorm2d(128, eps=1e-05, momentum=0.1, affine=True, track_running_stats=True)\n",
            "      (conv3): Conv2d(128, 512, kernel_size=(1, 1), stride=(1, 1), bias=False)\n",
            "      (bn3): BatchNorm2d(512, eps=1e-05, momentum=0.1, affine=True, track_running_stats=True)\n",
            "      (relu): ReLU(inplace=True)\n",
            "      (downsample): Sequential(\n",
            "        (0): Conv2d(256, 512, kernel_size=(1, 1), stride=(2, 2), bias=False)\n",
            "        (1): BatchNorm2d(512, eps=1e-05, momentum=0.1, affine=True, track_running_stats=True)\n",
            "      )\n",
            "    )\n",
            "    (1): Bottleneck(\n",
            "      (conv1): Conv2d(512, 128, kernel_size=(1, 1), stride=(1, 1), bias=False)\n",
            "      (bn1): BatchNorm2d(128, eps=1e-05, momentum=0.1, affine=True, track_running_stats=True)\n",
            "      (conv2): Conv2d(128, 128, kernel_size=(3, 3), stride=(1, 1), padding=(1, 1), bias=False)\n",
            "      (bn2): BatchNorm2d(128, eps=1e-05, momentum=0.1, affine=True, track_running_stats=True)\n",
            "      (conv3): Conv2d(128, 512, kernel_size=(1, 1), stride=(1, 1), bias=False)\n",
            "      (bn3): BatchNorm2d(512, eps=1e-05, momentum=0.1, affine=True, track_running_stats=True)\n",
            "      (relu): ReLU(inplace=True)\n",
            "    )\n",
            "    (2): Bottleneck(\n",
            "      (conv1): Conv2d(512, 128, kernel_size=(1, 1), stride=(1, 1), bias=False)\n",
            "      (bn1): BatchNorm2d(128, eps=1e-05, momentum=0.1, affine=True, track_running_stats=True)\n",
            "      (conv2): Conv2d(128, 128, kernel_size=(3, 3), stride=(1, 1), padding=(1, 1), bias=False)\n",
            "      (bn2): BatchNorm2d(128, eps=1e-05, momentum=0.1, affine=True, track_running_stats=True)\n",
            "      (conv3): Conv2d(128, 512, kernel_size=(1, 1), stride=(1, 1), bias=False)\n",
            "      (bn3): BatchNorm2d(512, eps=1e-05, momentum=0.1, affine=True, track_running_stats=True)\n",
            "      (relu): ReLU(inplace=True)\n",
            "    )\n",
            "    (3): Bottleneck(\n",
            "      (conv1): Conv2d(512, 128, kernel_size=(1, 1), stride=(1, 1), bias=False)\n",
            "      (bn1): BatchNorm2d(128, eps=1e-05, momentum=0.1, affine=True, track_running_stats=True)\n",
            "      (conv2): Conv2d(128, 128, kernel_size=(3, 3), stride=(1, 1), padding=(1, 1), bias=False)\n",
            "      (bn2): BatchNorm2d(128, eps=1e-05, momentum=0.1, affine=True, track_running_stats=True)\n",
            "      (conv3): Conv2d(128, 512, kernel_size=(1, 1), stride=(1, 1), bias=False)\n",
            "      (bn3): BatchNorm2d(512, eps=1e-05, momentum=0.1, affine=True, track_running_stats=True)\n",
            "      (relu): ReLU(inplace=True)\n",
            "    )\n",
            "  )\n",
            "  (layer3): Sequential(\n",
            "    (0): Bottleneck(\n",
            "      (conv1): Conv2d(512, 256, kernel_size=(1, 1), stride=(1, 1), bias=False)\n",
            "      (bn1): BatchNorm2d(256, eps=1e-05, momentum=0.1, affine=True, track_running_stats=True)\n",
            "      (conv2): Conv2d(256, 256, kernel_size=(3, 3), stride=(2, 2), padding=(1, 1), bias=False)\n",
            "      (bn2): BatchNorm2d(256, eps=1e-05, momentum=0.1, affine=True, track_running_stats=True)\n",
            "      (conv3): Conv2d(256, 1024, kernel_size=(1, 1), stride=(1, 1), bias=False)\n",
            "      (bn3): BatchNorm2d(1024, eps=1e-05, momentum=0.1, affine=True, track_running_stats=True)\n",
            "      (relu): ReLU(inplace=True)\n",
            "      (downsample): Sequential(\n",
            "        (0): Conv2d(512, 1024, kernel_size=(1, 1), stride=(2, 2), bias=False)\n",
            "        (1): BatchNorm2d(1024, eps=1e-05, momentum=0.1, affine=True, track_running_stats=True)\n",
            "      )\n",
            "    )\n",
            "    (1): Bottleneck(\n",
            "      (conv1): Conv2d(1024, 256, kernel_size=(1, 1), stride=(1, 1), bias=False)\n",
            "      (bn1): BatchNorm2d(256, eps=1e-05, momentum=0.1, affine=True, track_running_stats=True)\n",
            "      (conv2): Conv2d(256, 256, kernel_size=(3, 3), stride=(1, 1), padding=(1, 1), bias=False)\n",
            "      (bn2): BatchNorm2d(256, eps=1e-05, momentum=0.1, affine=True, track_running_stats=True)\n",
            "      (conv3): Conv2d(256, 1024, kernel_size=(1, 1), stride=(1, 1), bias=False)\n",
            "      (bn3): BatchNorm2d(1024, eps=1e-05, momentum=0.1, affine=True, track_running_stats=True)\n",
            "      (relu): ReLU(inplace=True)\n",
            "    )\n",
            "    (2): Bottleneck(\n",
            "      (conv1): Conv2d(1024, 256, kernel_size=(1, 1), stride=(1, 1), bias=False)\n",
            "      (bn1): BatchNorm2d(256, eps=1e-05, momentum=0.1, affine=True, track_running_stats=True)\n",
            "      (conv2): Conv2d(256, 256, kernel_size=(3, 3), stride=(1, 1), padding=(1, 1), bias=False)\n",
            "      (bn2): BatchNorm2d(256, eps=1e-05, momentum=0.1, affine=True, track_running_stats=True)\n",
            "      (conv3): Conv2d(256, 1024, kernel_size=(1, 1), stride=(1, 1), bias=False)\n",
            "      (bn3): BatchNorm2d(1024, eps=1e-05, momentum=0.1, affine=True, track_running_stats=True)\n",
            "      (relu): ReLU(inplace=True)\n",
            "    )\n",
            "    (3): Bottleneck(\n",
            "      (conv1): Conv2d(1024, 256, kernel_size=(1, 1), stride=(1, 1), bias=False)\n",
            "      (bn1): BatchNorm2d(256, eps=1e-05, momentum=0.1, affine=True, track_running_stats=True)\n",
            "      (conv2): Conv2d(256, 256, kernel_size=(3, 3), stride=(1, 1), padding=(1, 1), bias=False)\n",
            "      (bn2): BatchNorm2d(256, eps=1e-05, momentum=0.1, affine=True, track_running_stats=True)\n",
            "      (conv3): Conv2d(256, 1024, kernel_size=(1, 1), stride=(1, 1), bias=False)\n",
            "      (bn3): BatchNorm2d(1024, eps=1e-05, momentum=0.1, affine=True, track_running_stats=True)\n",
            "      (relu): ReLU(inplace=True)\n",
            "    )\n",
            "    (4): Bottleneck(\n",
            "      (conv1): Conv2d(1024, 256, kernel_size=(1, 1), stride=(1, 1), bias=False)\n",
            "      (bn1): BatchNorm2d(256, eps=1e-05, momentum=0.1, affine=True, track_running_stats=True)\n",
            "      (conv2): Conv2d(256, 256, kernel_size=(3, 3), stride=(1, 1), padding=(1, 1), bias=False)\n",
            "      (bn2): BatchNorm2d(256, eps=1e-05, momentum=0.1, affine=True, track_running_stats=True)\n",
            "      (conv3): Conv2d(256, 1024, kernel_size=(1, 1), stride=(1, 1), bias=False)\n",
            "      (bn3): BatchNorm2d(1024, eps=1e-05, momentum=0.1, affine=True, track_running_stats=True)\n",
            "      (relu): ReLU(inplace=True)\n",
            "    )\n",
            "    (5): Bottleneck(\n",
            "      (conv1): Conv2d(1024, 256, kernel_size=(1, 1), stride=(1, 1), bias=False)\n",
            "      (bn1): BatchNorm2d(256, eps=1e-05, momentum=0.1, affine=True, track_running_stats=True)\n",
            "      (conv2): Conv2d(256, 256, kernel_size=(3, 3), stride=(1, 1), padding=(1, 1), bias=False)\n",
            "      (bn2): BatchNorm2d(256, eps=1e-05, momentum=0.1, affine=True, track_running_stats=True)\n",
            "      (conv3): Conv2d(256, 1024, kernel_size=(1, 1), stride=(1, 1), bias=False)\n",
            "      (bn3): BatchNorm2d(1024, eps=1e-05, momentum=0.1, affine=True, track_running_stats=True)\n",
            "      (relu): ReLU(inplace=True)\n",
            "    )\n",
            "  )\n",
            "  (layer4): Sequential(\n",
            "    (0): Bottleneck(\n",
            "      (conv1): Conv2d(1024, 512, kernel_size=(1, 1), stride=(1, 1), bias=False)\n",
            "      (bn1): BatchNorm2d(512, eps=1e-05, momentum=0.1, affine=True, track_running_stats=True)\n",
            "      (conv2): Conv2d(512, 512, kernel_size=(3, 3), stride=(2, 2), padding=(1, 1), bias=False)\n",
            "      (bn2): BatchNorm2d(512, eps=1e-05, momentum=0.1, affine=True, track_running_stats=True)\n",
            "      (conv3): Conv2d(512, 2048, kernel_size=(1, 1), stride=(1, 1), bias=False)\n",
            "      (bn3): BatchNorm2d(2048, eps=1e-05, momentum=0.1, affine=True, track_running_stats=True)\n",
            "      (relu): ReLU(inplace=True)\n",
            "      (downsample): Sequential(\n",
            "        (0): Conv2d(1024, 2048, kernel_size=(1, 1), stride=(2, 2), bias=False)\n",
            "        (1): BatchNorm2d(2048, eps=1e-05, momentum=0.1, affine=True, track_running_stats=True)\n",
            "      )\n",
            "    )\n",
            "    (1): Bottleneck(\n",
            "      (conv1): Conv2d(2048, 512, kernel_size=(1, 1), stride=(1, 1), bias=False)\n",
            "      (bn1): BatchNorm2d(512, eps=1e-05, momentum=0.1, affine=True, track_running_stats=True)\n",
            "      (conv2): Conv2d(512, 512, kernel_size=(3, 3), stride=(1, 1), padding=(1, 1), bias=False)\n",
            "      (bn2): BatchNorm2d(512, eps=1e-05, momentum=0.1, affine=True, track_running_stats=True)\n",
            "      (conv3): Conv2d(512, 2048, kernel_size=(1, 1), stride=(1, 1), bias=False)\n",
            "      (bn3): BatchNorm2d(2048, eps=1e-05, momentum=0.1, affine=True, track_running_stats=True)\n",
            "      (relu): ReLU(inplace=True)\n",
            "    )\n",
            "    (2): Bottleneck(\n",
            "      (conv1): Conv2d(2048, 512, kernel_size=(1, 1), stride=(1, 1), bias=False)\n",
            "      (bn1): BatchNorm2d(512, eps=1e-05, momentum=0.1, affine=True, track_running_stats=True)\n",
            "      (conv2): Conv2d(512, 512, kernel_size=(3, 3), stride=(1, 1), padding=(1, 1), bias=False)\n",
            "      (bn2): BatchNorm2d(512, eps=1e-05, momentum=0.1, affine=True, track_running_stats=True)\n",
            "      (conv3): Conv2d(512, 2048, kernel_size=(1, 1), stride=(1, 1), bias=False)\n",
            "      (bn3): BatchNorm2d(2048, eps=1e-05, momentum=0.1, affine=True, track_running_stats=True)\n",
            "      (relu): ReLU(inplace=True)\n",
            "    )\n",
            "  )\n",
            "  (avgpool): AdaptiveAvgPool2d(output_size=(1, 1))\n",
            "  (fc): Sequential(\n",
            "    (0): Linear(in_features=2048, out_features=256, bias=True)\n",
            "    (1): ReLU()\n",
            "    (2): Dropout(p=0.5, inplace=False)\n",
            "    (3): Linear(in_features=256, out_features=10, bias=True)\n",
            "    (4): Sigmoid()\n",
            "  )\n",
            ")\n"
          ]
        }
      ],
      "source": [
        "#number_features = pretrained_model.fc.in_features\n",
        "num_classes = 10\n",
        "pretrained_model.fc = nn.Sequential(\n",
        "    nn.Linear(2048, 256),\n",
        "    nn.ReLU(),\n",
        "    nn.Dropout(0.5),\n",
        "    nn.Linear(256, num_classes),\n",
        "    #nn.ModuleList([nn.Sigmoid() for _ in range(10)])\n",
        "    nn.Sigmoid()\n",
        "    #nn.LogSoftmax(dim=1)\n",
        ")\n",
        "print(pretrained_model)"
      ]
    },
    {
      "cell_type": "code",
      "execution_count": 18,
      "id": "efeb3123",
      "metadata": {
        "execution": {
          "iopub.execute_input": "2024-01-17T06:49:59.750201Z",
          "iopub.status.busy": "2024-01-17T06:49:59.749677Z",
          "iopub.status.idle": "2024-01-17T06:49:59.765884Z",
          "shell.execute_reply": "2024-01-17T06:49:59.764414Z"
        },
        "papermill": {
          "duration": 0.032741,
          "end_time": "2024-01-17T06:49:59.769488",
          "exception": false,
          "start_time": "2024-01-17T06:49:59.736747",
          "status": "completed"
        },
        "tags": [],
        "id": "efeb3123"
      },
      "outputs": [],
      "source": [
        "import torch.optim as optim\n",
        "#Loss = nn.CrossEntropyLoss()\n",
        "Loss = nn.BCELoss()\n",
        "#optimizer = optim.SGD(pretrained_model.parameters(), lr=0.01)\n",
        "optimizer = optim.SGD(pretrained_model.parameters(), lr=0.01,  momentum=0.9)\n",
        "#scheduler = optim.lr_scheduler.MultiStepLR(optimizer, milestones=[10, 15], gamma=0.01)\n",
        "device = torch.device(\"cuda\" if torch.cuda.is_available() else \"cpu\")\n",
        "pretrained_model = pretrained_model.to(device)"
      ]
    },
    {
      "cell_type": "code",
      "execution_count": 19,
      "id": "2ecf08df",
      "metadata": {
        "execution": {
          "iopub.execute_input": "2024-01-17T06:49:59.796688Z",
          "iopub.status.busy": "2024-01-17T06:49:59.796164Z",
          "iopub.status.idle": "2024-01-17T06:50:01.651952Z",
          "shell.execute_reply": "2024-01-17T06:50:01.650316Z"
        },
        "papermill": {
          "duration": 1.873644,
          "end_time": "2024-01-17T06:50:01.656075",
          "exception": false,
          "start_time": "2024-01-17T06:49:59.782431",
          "status": "completed"
        },
        "tags": [],
        "id": "2ecf08df"
      },
      "outputs": [],
      "source": [
        "from sklearn.metrics import precision_score, recall_score, f1_score, accuracy_score\n",
        "import numpy as np\n",
        "def test(model, loader):\n",
        "    loss_log, acc_log, prec_log, recall_log, f1_log = [], [], [], [], []\n",
        "\n",
        "    model.eval()\n",
        "\n",
        "    with torch.no_grad():\n",
        "        for data, target in loader:\n",
        "            inputs, labels = data.to(device), target.to(device)\n",
        "\n",
        "            outputs = model(inputs)\n",
        "            loss = Loss(outputs, labels)\n",
        "            outputs = [[1 if val > 0.5 else 0 for val in inner_list] for inner_list in outputs]\n",
        "            outputs = torch.tensor(outputs).float()\n",
        "\n",
        "            accuracy = accuracy_score(y_true = labels.cpu().detach().numpy(), y_pred = outputs.cpu().detach().numpy(), normalize = True)\n",
        "            precision = precision_score(y_true = labels.cpu().detach().numpy(), y_pred = outputs.cpu().detach().numpy(), average = 'samples')\n",
        "            recall = recall_score(y_true = labels.cpu().detach().numpy(), y_pred = outputs.cpu().detach().numpy(), average = 'samples')\n",
        "            f1 = f1_score(y_true = labels.cpu().detach().numpy(), y_pred = outputs.cpu().detach().numpy(), average = 'samples')\n",
        "\n",
        "            loss_log.append(loss.item())\n",
        "            prec_log.append(precision.item())\n",
        "            acc_log.append(accuracy.item())\n",
        "            recall_log.append(recall.item())\n",
        "            f1_log.append(f1.item())\n",
        "\n",
        "    return np.mean(loss_log), np.mean(prec_log),np.mean(acc_log), np.mean(recall_log), np.mean(f1_log)"
      ]
    },
    {
      "cell_type": "code",
      "execution_count": 20,
      "id": "11911aec",
      "metadata": {
        "execution": {
          "iopub.execute_input": "2024-01-17T06:50:01.682500Z",
          "iopub.status.busy": "2024-01-17T06:50:01.681740Z",
          "iopub.status.idle": "2024-01-17T06:50:01.696344Z",
          "shell.execute_reply": "2024-01-17T06:50:01.695192Z"
        },
        "papermill": {
          "duration": 0.031178,
          "end_time": "2024-01-17T06:50:01.699194",
          "exception": false,
          "start_time": "2024-01-17T06:50:01.668016",
          "status": "completed"
        },
        "tags": [],
        "id": "11911aec"
      },
      "outputs": [],
      "source": [
        "def train_epoch(model, optimizer, train_loader):\n",
        "    loss_log, acc_log, prec_log, recall_log, f1_log = [], [], [], [], []\n",
        "\n",
        "    model.train()\n",
        "\n",
        "    for data, target in train_loader:\n",
        "        inputs, labels = data.to(device), target.to(device)\n",
        "\n",
        "        optimizer.zero_grad()\n",
        "\n",
        "        outputs = model(inputs)\n",
        "        loss = Loss(outputs, labels)\n",
        "        outputs = [[1 if val > 0.5 else 0 for val in inner_list] for inner_list in outputs]\n",
        "        outputs = torch.tensor(outputs).float()\n",
        "        #print(f\"Outputs {outputs}\")\n",
        "        #print(f\"Labels {labels}\")\n",
        "\n",
        "        #precision, recall, f1, accuracy = calculate_metrics(outputs, labels)\n",
        "\n",
        "        accuracy = accuracy_score(y_true = labels.cpu().detach().numpy(), y_pred = outputs.cpu().detach().numpy(), normalize = True)\n",
        "        precision = precision_score(y_true = labels.cpu().detach().numpy(), y_pred = outputs.cpu().detach().numpy(), average = 'samples')\n",
        "        recall = recall_score(y_true = labels.cpu().detach().numpy(), y_pred = outputs.cpu().detach().numpy(), average = 'samples')\n",
        "        f1 = f1_score(y_true = labels.cpu().detach().numpy(), y_pred = outputs.cpu().detach().numpy(), average = 'samples')\n",
        "\n",
        "        loss.backward()\n",
        "        optimizer.step()\n",
        "\n",
        "        loss_log.append(loss.item())\n",
        "        acc_log.append(accuracy.item())\n",
        "        prec_log.append(precision.item())\n",
        "        recall_log.append(recall.item())\n",
        "        f1_log.append(f1.item())\n",
        "\n",
        "    return loss_log, acc_log, prec_log, recall_log, f1_log\n"
      ]
    },
    {
      "cell_type": "code",
      "execution_count": 21,
      "id": "a9831651",
      "metadata": {
        "execution": {
          "iopub.execute_input": "2024-01-17T06:50:01.725786Z",
          "iopub.status.busy": "2024-01-17T06:50:01.724855Z",
          "iopub.status.idle": "2024-01-17T06:50:01.737501Z",
          "shell.execute_reply": "2024-01-17T06:50:01.735985Z"
        },
        "papermill": {
          "duration": 0.029915,
          "end_time": "2024-01-17T06:50:01.740880",
          "exception": false,
          "start_time": "2024-01-17T06:50:01.710965",
          "status": "completed"
        },
        "tags": [],
        "id": "a9831651"
      },
      "outputs": [],
      "source": [
        "def train(model, optimizer, n_epochs, train_loader, val_loader, scheduler=None):\n",
        "    train_loss_log, train_acc_log, train_prec_log, train_recall_log, train_f1_log = [], [], [], [], []\n",
        "    val_loss_log, val_acc_log, val_prec_log, val_recall_log, val_f1_log = [], [], [], [], []\n",
        "\n",
        "    for epoch in range(n_epochs):\n",
        "        train_loss, train_acc, train_prec, train_recall, train_f1 = train_epoch(model, optimizer, train_loader)\n",
        "        val_loss, val_acc, val_prec, val_recall, val_f1 = test(model, val_loader)\n",
        "\n",
        "        train_loss_log.append(np.mean(train_loss))\n",
        "        train_acc_log.append(np.mean(train_acc))\n",
        "        train_prec_log.append(np.mean(train_prec))\n",
        "        train_recall_log.append(np.mean(train_recall))\n",
        "        train_f1_log.append(np.mean(train_f1))\n",
        "\n",
        "        val_loss_log.append(val_loss)\n",
        "        val_acc_log.append(val_acc)\n",
        "        val_prec_log.append(val_prec)\n",
        "        val_recall_log.append(val_recall)\n",
        "        val_f1_log.append(val_f1)\n",
        "\n",
        "        print(f\"Epoch {epoch}\")\n",
        "        print(f\" Train loss: {np.mean(train_loss)}, Train accuracy: {np.mean(train_acc)}, Train precision: {np.mean(train_prec)}, Train recall: {np.mean(train_recall)}, Train F1: {np.mean(train_f1)}\")\n",
        "        print(f\" Validation loss: {val_loss}, Validation accuracy: {val_acc}, Validation precision: {val_prec}, Validation recall: {val_recall}, Validation F1: {val_f1}\\n\")\n",
        "\n",
        "        if scheduler is not None:\n",
        "            scheduler.step()\n",
        "\n",
        "    return train_loss_log, train_acc_log, train_prec_log, train_recall_log, train_f1_log, val_loss_log, val_acc_log, val_prec_log, val_recall_log, val_f1_log\n"
      ]
    },
    {
      "cell_type": "code",
      "execution_count": 22,
      "id": "4697d01e",
      "metadata": {
        "execution": {
          "iopub.execute_input": "2024-01-17T06:50:01.767356Z",
          "iopub.status.busy": "2024-01-17T06:50:01.766918Z",
          "iopub.status.idle": "2024-01-17T14:30:19.953928Z",
          "shell.execute_reply": "2024-01-17T14:30:19.952587Z"
        },
        "papermill": {
          "duration": 27618.261052,
          "end_time": "2024-01-17T14:30:20.013710",
          "exception": false,
          "start_time": "2024-01-17T06:50:01.752658",
          "status": "completed"
        },
        "tags": [],
        "id": "4697d01e",
        "outputId": "c55e3aed-a850-4e05-a276-3df366f28fdc",
        "colab": {
          "base_uri": "https://localhost:8080/"
        }
      },
      "outputs": [
        {
          "output_type": "stream",
          "name": "stdout",
          "text": [
            "Epoch 0\n",
            " Train loss: 0.6959754228591919, Train accuracy: 0.0, Train precision: 0.7822510822510822, Train recall: 0.5189393939393938, Train F1: 0.6120949794412363\n",
            " Validation loss: 0.6666590571403503, Validation accuracy: 0.8678571428571429, Validation precision: 0.0, Validation recall: 0.825, Validation F1: 0.845\n",
            "\n",
            "Epoch 1\n",
            " Train loss: 0.6752739548683167, Train accuracy: 0.0, Train precision: 0.853896103896104, Train recall: 0.6212121212121212, Train F1: 0.7098939607629448\n",
            " Validation loss: 0.641834557056427, Validation accuracy: 0.875, Validation precision: 0.0, Validation recall: 0.875, Validation F1: 0.875\n",
            "\n",
            "Epoch 2\n",
            " Train loss: 0.6438794136047363, Train accuracy: 0.09090909090909091, Train precision: 0.9019209956709957, Train recall: 0.8030303030303031, Train F1: 0.8428082946465298\n",
            " Validation loss: 0.6082441806793213, Validation accuracy: 0.8763888888888889, Validation precision: 0.0, Validation recall: 0.8875, Validation F1: 0.8816176470588235\n",
            "\n",
            "Epoch 3\n",
            " Train loss: 0.6089092493057251, Train accuracy: 0.18181818181818182, Train precision: 0.9258658008658007, Train recall: 0.9223484848484849, Train F1: 0.9211086707410235\n",
            " Validation loss: 0.5672487020492554, Validation accuracy: 0.888888888888889, Validation precision: 0.0, Validation recall: 1.0, Validation F1: 0.9411764705882353\n",
            "\n",
            "Epoch 4\n",
            " Train loss: 0.5614125728607178, Train accuracy: 0.5454545454545454, Train precision: 0.9589646464646464, Train recall: 0.97885101010101, Train F1: 0.9670677361853831\n",
            " Validation loss: 0.5184189677238464, Validation accuracy: 0.9, Validation precision: 0.1, Validation recall: 1.0, Validation F1: 0.9470588235294117\n",
            "\n",
            "Epoch 5\n",
            " Train loss: 0.5249914526939392, Train accuracy: 0.5, Train precision: 0.9567550505050503, Train recall: 0.9842171717171717, Train F1: 0.9689059714795007\n",
            " Validation loss: 0.46335142850875854, Validation accuracy: 0.9777777777777779, Validation precision: 0.8, Validation recall: 1.0, Validation F1: 0.9882352941176471\n",
            "\n",
            "Epoch 6\n",
            " Train loss: 0.4622015357017517, Train accuracy: 0.7954545454545454, Train precision: 0.9823232323232323, Train recall: 0.9949494949494949, Train F1: 0.9879679144385026\n",
            " Validation loss: 0.40393179655075073, Validation accuracy: 1.0, Validation precision: 1.0, Validation recall: 1.0, Validation F1: 1.0\n",
            "\n",
            "Epoch 7\n",
            " Train loss: 0.4136589467525482, Train accuracy: 0.7272727272727273, Train precision: 0.9924242424242425, Train recall: 0.9772727272727273, Train F1: 0.983957219251337\n",
            " Validation loss: 0.3397861421108246, Validation accuracy: 1.0, Validation precision: 1.0, Validation recall: 1.0, Validation F1: 1.0\n",
            "\n",
            "Epoch 8\n",
            " Train loss: 0.3588196933269501, Train accuracy: 0.6818181818181818, Train precision: 0.9823232323232323, Train recall: 0.9823232323232323, Train F1: 0.981283422459893\n",
            " Validation loss: 0.27445414662361145, Validation accuracy: 1.0, Validation precision: 1.0, Validation recall: 1.0, Validation F1: 1.0\n",
            "\n",
            "Epoch 9\n",
            " Train loss: 0.3069680631160736, Train accuracy: 0.75, Train precision: 0.9924242424242423, Train recall: 0.9797979797979799, Train F1: 0.9852941176470587\n",
            " Validation loss: 0.212839275598526, Validation accuracy: 1.0, Validation precision: 1.0, Validation recall: 1.0, Validation F1: 1.0\n",
            "\n",
            "Epoch 10\n",
            " Train loss: 0.2475479394197464, Train accuracy: 0.7727272727272727, Train precision: 0.9974747474747474, Train recall: 0.9772727272727273, Train F1: 0.9866310160427806\n",
            " Validation loss: 0.15930519998073578, Validation accuracy: 1.0, Validation precision: 1.0, Validation recall: 1.0, Validation F1: 1.0\n",
            "\n",
            "Epoch 11\n",
            " Train loss: 0.19066911935806274, Train accuracy: 0.8181818181818182, Train precision: 1.0, Train recall: 0.9797979797979799, Train F1: 0.9893048128342247\n",
            " Validation loss: 0.11670023947954178, Validation accuracy: 1.0, Validation precision: 1.0, Validation recall: 1.0, Validation F1: 1.0\n",
            "\n",
            "Epoch 12\n",
            " Train loss: 0.1610732078552246, Train accuracy: 0.7954545454545454, Train precision: 1.0, Train recall: 0.9772727272727273, Train F1: 0.9879679144385026\n",
            " Validation loss: 0.08390464633703232, Validation accuracy: 1.0, Validation precision: 1.0, Validation recall: 1.0, Validation F1: 1.0\n",
            "\n",
            "Epoch 13\n",
            " Train loss: 0.13928207755088806, Train accuracy: 0.75, Train precision: 0.9974747474747474, Train recall: 0.9747474747474747, Train F1: 0.985294117647059\n",
            " Validation loss: 0.059677839279174805, Validation accuracy: 1.0, Validation precision: 1.0, Validation recall: 1.0, Validation F1: 1.0\n",
            "\n",
            "Epoch 14\n",
            " Train loss: 0.11630621552467346, Train accuracy: 0.7727272727272727, Train precision: 1.0, Train recall: 0.9747474747474747, Train F1: 0.9866310160427808\n",
            " Validation loss: 0.042320288717746735, Validation accuracy: 1.0, Validation precision: 1.0, Validation recall: 1.0, Validation F1: 1.0\n",
            "\n",
            "Epoch 15\n",
            " Train loss: 0.0888875350356102, Train accuracy: 0.8181818181818182, Train precision: 1.0, Train recall: 0.9797979797979799, Train F1: 0.9893048128342247\n",
            " Validation loss: 0.029797716066241264, Validation accuracy: 1.0, Validation precision: 1.0, Validation recall: 1.0, Validation F1: 1.0\n",
            "\n",
            "Epoch 16\n",
            " Train loss: 0.0770476907491684, Train accuracy: 0.7727272727272727, Train precision: 1.0, Train recall: 0.9747474747474747, Train F1: 0.9866310160427806\n",
            " Validation loss: 0.021402981132268906, Validation accuracy: 1.0, Validation precision: 1.0, Validation recall: 1.0, Validation F1: 1.0\n",
            "\n",
            "Epoch 17\n",
            " Train loss: 0.07476796954870224, Train accuracy: 0.7954545454545454, Train precision: 1.0, Train recall: 0.9772727272727273, Train F1: 0.9879679144385026\n",
            " Validation loss: 0.01586798205971718, Validation accuracy: 1.0, Validation precision: 1.0, Validation recall: 1.0, Validation F1: 1.0\n",
            "\n",
            "Epoch 18\n",
            " Train loss: 0.06654129922389984, Train accuracy: 0.7954545454545454, Train precision: 1.0, Train recall: 0.9772727272727273, Train F1: 0.9879679144385026\n",
            " Validation loss: 0.012122470885515213, Validation accuracy: 1.0, Validation precision: 1.0, Validation recall: 1.0, Validation F1: 1.0\n",
            "\n",
            "Epoch 19\n",
            " Train loss: 0.06701734662055969, Train accuracy: 0.7727272727272727, Train precision: 1.0, Train recall: 0.9747474747474747, Train F1: 0.9866310160427806\n",
            " Validation loss: 0.009723044000566006, Validation accuracy: 1.0, Validation precision: 1.0, Validation recall: 1.0, Validation F1: 1.0\n",
            "\n",
            "Epoch 20\n",
            " Train loss: 0.05469635874032974, Train accuracy: 0.7727272727272727, Train precision: 1.0, Train recall: 0.9747474747474747, Train F1: 0.9866310160427806\n",
            " Validation loss: 0.008281053975224495, Validation accuracy: 1.0, Validation precision: 1.0, Validation recall: 1.0, Validation F1: 1.0\n",
            "\n",
            "Epoch 21\n",
            " Train loss: 0.05620460584759712, Train accuracy: 0.7727272727272727, Train precision: 1.0, Train recall: 0.9747474747474747, Train F1: 0.9866310160427806\n",
            " Validation loss: 0.007565483916550875, Validation accuracy: 1.0, Validation precision: 1.0, Validation recall: 1.0, Validation F1: 1.0\n",
            "\n",
            "Epoch 22\n",
            " Train loss: 0.05414662882685661, Train accuracy: 0.7727272727272727, Train precision: 1.0, Train recall: 0.9747474747474747, Train F1: 0.9866310160427808\n",
            " Validation loss: 0.0073089078068733215, Validation accuracy: 1.0, Validation precision: 1.0, Validation recall: 1.0, Validation F1: 1.0\n",
            "\n",
            "Epoch 23\n",
            " Train loss: 0.05048809573054314, Train accuracy: 0.75, Train precision: 0.9974747474747474, Train recall: 0.9747474747474747, Train F1: 0.985294117647059\n",
            " Validation loss: 0.007277133874595165, Validation accuracy: 1.0, Validation precision: 1.0, Validation recall: 1.0, Validation F1: 1.0\n",
            "\n",
            "Epoch 24\n",
            " Train loss: 0.04654974490404129, Train accuracy: 0.7727272727272727, Train precision: 1.0, Train recall: 0.9747474747474747, Train F1: 0.9866310160427806\n",
            " Validation loss: 0.007529057562351227, Validation accuracy: 1.0, Validation precision: 1.0, Validation recall: 1.0, Validation F1: 1.0\n",
            "\n",
            "Epoch 25\n",
            " Train loss: 0.045487627387046814, Train accuracy: 0.7727272727272727, Train precision: 1.0, Train recall: 0.9747474747474748, Train F1: 0.9866310160427808\n",
            " Validation loss: 0.007987906225025654, Validation accuracy: 1.0, Validation precision: 1.0, Validation recall: 1.0, Validation F1: 1.0\n",
            "\n",
            "Epoch 26\n",
            " Train loss: 0.05036658048629761, Train accuracy: 0.7727272727272727, Train precision: 1.0, Train recall: 0.9747474747474747, Train F1: 0.9866310160427806\n",
            " Validation loss: 0.008587595075368881, Validation accuracy: 1.0, Validation precision: 1.0, Validation recall: 1.0, Validation F1: 1.0\n",
            "\n",
            "Epoch 27\n",
            " Train loss: 0.041229505091905594, Train accuracy: 0.7727272727272727, Train precision: 1.0, Train recall: 0.9747474747474747, Train F1: 0.9866310160427806\n",
            " Validation loss: 0.009358992800116539, Validation accuracy: 1.0, Validation precision: 1.0, Validation recall: 1.0, Validation F1: 1.0\n",
            "\n",
            "Epoch 28\n",
            " Train loss: 0.03802086412906647, Train accuracy: 0.7954545454545454, Train precision: 1.0, Train recall: 0.9772727272727273, Train F1: 0.9879679144385026\n",
            " Validation loss: 0.01018582284450531, Validation accuracy: 1.0, Validation precision: 1.0, Validation recall: 1.0, Validation F1: 1.0\n",
            "\n",
            "Epoch 29\n",
            " Train loss: 0.04730575531721115, Train accuracy: 0.7727272727272727, Train precision: 1.0, Train recall: 0.9747474747474748, Train F1: 0.9866310160427808\n",
            " Validation loss: 0.010975394397974014, Validation accuracy: 1.0, Validation precision: 1.0, Validation recall: 1.0, Validation F1: 1.0\n",
            "\n"
          ]
        }
      ],
      "source": [
        "num_epochs = 30\n",
        "train_loss_log, train_acc_log, train_prec_log, train_recall_log, train_f1_log, val_loss_log, val_acc_log, val_prec_log, val_recall_log, val_f1_log = train(pretrained_model, optimizer, num_epochs, train_dataloader, val_dataloader)"
      ]
    },
    {
      "cell_type": "code",
      "execution_count": 23,
      "id": "65fd9f7c",
      "metadata": {
        "execution": {
          "iopub.execute_input": "2024-01-17T14:30:20.138341Z",
          "iopub.status.busy": "2024-01-17T14:30:20.136737Z",
          "iopub.status.idle": "2024-01-17T14:31:22.945503Z",
          "shell.execute_reply": "2024-01-17T14:31:22.944061Z"
        },
        "papermill": {
          "duration": 62.87552,
          "end_time": "2024-01-17T14:31:22.949464",
          "exception": false,
          "start_time": "2024-01-17T14:30:20.073944",
          "status": "completed"
        },
        "tags": [],
        "id": "65fd9f7c",
        "outputId": "2334d753-15f5-45c7-cbae-6f139af5ac27",
        "colab": {
          "base_uri": "https://localhost:8080/"
        }
      },
      "outputs": [
        {
          "output_type": "stream",
          "name": "stdout",
          "text": [
            "Test Loss: 0.011582281440496445\n",
            "Test Accuracy: 1.0\n",
            "Test Precision: 1.0\n",
            "Test Recall: 1.0\n",
            "Test F1 Score: 1.0\n"
          ]
        }
      ],
      "source": [
        "pretrained_model.eval()\n",
        "\n",
        "test_loss, test_acc, test_prec, test_recall, test_f1 = test(pretrained_model, test_dataloader)\n",
        "\n",
        "print(f\"Test Loss: {test_loss}\")\n",
        "print(f\"Test Accuracy: {test_acc}\")\n",
        "print(f\"Test Precision: {test_prec}\")\n",
        "print(f\"Test Recall: {test_recall}\")\n",
        "print(f\"Test F1 Score: {test_f1}\")"
      ]
    },
    {
      "cell_type": "code",
      "execution_count": 24,
      "id": "83f92a97",
      "metadata": {
        "execution": {
          "iopub.execute_input": "2024-01-17T14:31:23.089916Z",
          "iopub.status.busy": "2024-01-17T14:31:23.088263Z",
          "iopub.status.idle": "2024-01-17T14:31:23.904469Z",
          "shell.execute_reply": "2024-01-17T14:31:23.903245Z"
        },
        "papermill": {
          "duration": 0.892001,
          "end_time": "2024-01-17T14:31:23.907447",
          "exception": false,
          "start_time": "2024-01-17T14:31:23.015446",
          "status": "completed"
        },
        "tags": [],
        "id": "83f92a97",
        "outputId": "0df3076e-82e2-4323-f29f-5559faa35268",
        "colab": {
          "base_uri": "https://localhost:8080/",
          "height": 957
        }
      },
      "outputs": [
        {
          "output_type": "display_data",
          "data": {
            "text/plain": [
              "<Figure size 1200x600 with 1 Axes>"
            ],
            "image/png": "[encoded data removed]"
          },
          "metadata": {}
        },
        {
          "output_type": "display_data",
          "data": {
            "text/plain": [
              "<Figure size 600x400 with 1 Axes>"
            ],
            "image/png": "[encoded data removed]"
          },
          "metadata": {}
        }
      ],
      "source": [
        "import matplotlib.pyplot as plt\n",
        "\n",
        "epochs = list(range(1, len(train_loss_log) + 1))\n",
        "\n",
        "# График метрик\n",
        "plt.figure(figsize=(12, 6))\n",
        "plt.plot(epochs, train_acc_log, label='Training Accuracy')\n",
        "plt.plot(epochs, train_prec_log, label='Training Precision')\n",
        "plt.plot(epochs, train_recall_log, label='Training Recall')\n",
        "plt.plot(epochs, train_f1_log, label='Training F1 Score')\n",
        "\n",
        "plt.xlabel('Epochs')\n",
        "plt.ylabel('Metrics')\n",
        "plt.title('Classification Metrics over Epochs')\n",
        "plt.legend()\n",
        "plt.show()\n",
        "\n",
        "# График функции потерь\n",
        "plt.figure(figsize=(6, 4))\n",
        "plt.plot(epochs, train_loss_log, label='Training Loss')\n",
        "\n",
        "plt.xlabel('Epochs')\n",
        "plt.ylabel('Loss')\n",
        "plt.title('Training Loss over Epochs')\n",
        "plt.legend()\n",
        "plt.show()\n"
      ]
    },
    {
      "cell_type": "code",
      "execution_count": 25,
      "id": "ed4c7a81",
      "metadata": {
        "execution": {
          "iopub.execute_input": "2024-01-17T14:31:24.049747Z",
          "iopub.status.busy": "2024-01-17T14:31:24.049107Z",
          "iopub.status.idle": "2024-01-17T14:31:24.810160Z",
          "shell.execute_reply": "2024-01-17T14:31:24.808577Z"
        },
        "papermill": {
          "duration": 0.833681,
          "end_time": "2024-01-17T14:31:24.813406",
          "exception": false,
          "start_time": "2024-01-17T14:31:23.979725",
          "status": "completed"
        },
        "tags": [],
        "id": "ed4c7a81",
        "outputId": "e431effd-0f0c-466f-9648-f1909c781376",
        "colab": {
          "base_uri": "https://localhost:8080/",
          "height": 957
        }
      },
      "outputs": [
        {
          "output_type": "display_data",
          "data": {
            "text/plain": [
              "<Figure size 1200x600 with 1 Axes>"
            ],
            "image/png": "[encoded data removed]"
          },
          "metadata": {}
        },
        {
          "output_type": "display_data",
          "data": {
            "text/plain": [
              "<Figure size 600x400 with 1 Axes>"
            ],
            "image/png": "[encoded data removed]"
          },
          "metadata": {}
        }
      ],
      "source": [
        "\n",
        "# График метрик\n",
        "plt.figure(figsize=(12, 6))\n",
        "plt.plot(epochs, val_acc_log, label='Validation Accuracy')\n",
        "plt.plot(epochs, val_prec_log, label='Validation Precision')\n",
        "plt.plot(epochs, val_recall_log, label='Validation Recall')\n",
        "plt.plot(epochs, val_f1_log, label='Validation F1 Score')\n",
        "\n",
        "plt.xlabel('Epochs')\n",
        "plt.ylabel('Metrics')\n",
        "plt.title('Classification Metrics over Epochs')\n",
        "plt.legend()\n",
        "plt.show()\n",
        "\n",
        "# График функции потерь\n",
        "plt.figure(figsize=(6, 4))\n",
        "plt.plot(epochs, val_loss_log, label='Validation Loss')\n",
        "\n",
        "plt.xlabel('Epochs')\n",
        "plt.ylabel('Loss')\n",
        "plt.title('Validation Loss over Epochs')\n",
        "plt.legend()\n",
        "plt.show()"
      ]
    }
  ],
  "metadata": {
    "kaggle": {
      "accelerator": "none",
      "dataSources": [
        {
          "datasetId": 729820,
          "sourceId": 1267148,
          "sourceType": "datasetVersion"
        }
      ],
      "dockerImageVersionId": 30627,
      "isGpuEnabled": false,
      "isInternetEnabled": true,
      "language": "python",
      "sourceType": "notebook"
    },
    "kernelspec": {
      "display_name": "Python 3",
      "name": "python3"
    },
    "language_info": {
      "codemirror_mode": {
        "name": "ipython",
        "version": 3
      },
      "file_extension": ".py",
      "mimetype": "text/x-python",
      "name": "python",
      "nbconvert_exporter": "python",
      "pygments_lexer": "ipython3",
      "version": "3.10.12"
    },
    "papermill": {
      "default_parameters": {},
      "duration": 27715.672777,
      "end_time": "2024-01-17T14:31:27.185223",
      "environment_variables": {},
      "exception": null,
      "input_path": "__notebook__.ipynb",
      "output_path": "__notebook__.ipynb",
      "parameters": {},
      "start_time": "2024-01-17T06:49:31.512446",
      "version": "2.4.0"
    },
    "colab": {
      "provenance": [],
      "gpuType": "T4",
      "include_colab_link": true
    },
    "accelerator": "GPU"
  },
  "nbformat": 4,
  "nbformat_minor": 5
}